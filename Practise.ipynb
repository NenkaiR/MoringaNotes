{
 "cells": [
  {
   "cell_type": "raw",
   "id": "4de50f64-1e74-4620-9532-8e232756ffed",
   "metadata": {},
   "source": [
    "#practise any code learnt\n",
    "\n",
    "#push to git\n",
    "#commit message \n",
    "#share link"
   ]
  },
  {
   "cell_type": "code",
   "execution_count": 8,
   "id": "3d618b65-ab7d-4885-ab2b-914444d8a89b",
   "metadata": {
    "tags": []
   },
   "outputs": [
    {
     "name": "stdout",
     "output_type": "stream",
     "text": [
      "Baraka\n",
      "Ongeti\n"
     ]
    }
   ],
   "source": [
    "#practise any code learnt\n",
    "first_name =\"Baraka\"\n",
    "print(first_name)\n",
    "second_name= \"Ongeti\"\n",
    "print(second_name)"
   ]
  },
  {
   "cell_type": "code",
   "execution_count": 16,
   "id": "613c06a3-7693-4f9e-9047-791eece1fdb2",
   "metadata": {
    "tags": []
   },
   "outputs": [],
   "source": [
    "sentence_1= f\" Dear {first_name.title()}\\n{second_name.upper()}.\" "
   ]
  },
  {
   "cell_type": "code",
   "execution_count": 17,
   "id": "ca186817-1c98-458e-8b29-a66fb691e6af",
   "metadata": {
    "tags": []
   },
   "outputs": [
    {
     "name": "stdout",
     "output_type": "stream",
     "text": [
      " Dear Baraka\n",
      "ONGETI.\n"
     ]
    }
   ],
   "source": [
    "print(sentence_1)"
   ]
  },
  {
   "cell_type": "code",
   "execution_count": null,
   "id": "b3a93d00-b41d-42e8-9969-a82560efb19c",
   "metadata": {},
   "outputs": [],
   "source": []
  }
 ],
 "metadata": {
  "kernelspec": {
   "display_name": "Python 3 (ipykernel)",
   "language": "python",
   "name": "python3"
  },
  "language_info": {
   "codemirror_mode": {
    "name": "ipython",
    "version": 3
   },
   "file_extension": ".py",
   "mimetype": "text/x-python",
   "name": "python",
   "nbconvert_exporter": "python",
   "pygments_lexer": "ipython3",
   "version": "3.11.3"
  }
 },
 "nbformat": 4,
 "nbformat_minor": 5
}
