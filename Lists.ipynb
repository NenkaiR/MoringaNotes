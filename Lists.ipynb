{
 "cells": [
  {
   "cell_type": "code",
   "execution_count": null,
   "id": "76cc0d9a-bc08-4fbd-afa4-2e3c06c2d215",
   "metadata": {},
   "outputs": [],
   "source": [
    "#Lists\n",
    "\n",
    "*collection of items in a particular order\n",
    "*can include strings,floats,intergers and any other datatypes.Including a list.\n",
    "*Anything can be added to the list and items do not have to be related in a particular way\n",
    "*Use square brackets{[]) to indicate a list and individual items in the list are separated by commas\n",
    "**syntax**:```[item_1, item_2,item_3]```"
   ]
  },
  {
   "cell_type": "code",
   "execution_count": 2,
   "id": "bcfbdf74-5140-45ed-9806-f35c85ea0144",
   "metadata": {
    "tags": []
   },
   "outputs": [
    {
     "name": "stdout",
     "output_type": "stream",
     "text": [
      "['Mango', 'Apple', 'Ndizi']\n"
     ]
    }
   ],
   "source": [
    "#example\n",
    "fruits = [\"Mango\", \"Apple\", \"Ndizi\"]\n",
    "print(fruits)"
   ]
  },
  {
   "cell_type": "code",
   "execution_count": 5,
   "id": "48212641-1e51-41ca-88a6-17e6172a1d7c",
   "metadata": {
    "tags": []
   },
   "outputs": [
    {
     "ename": "NameError",
     "evalue": "name 'Phone_no' is not defined",
     "output_type": "error",
     "traceback": [
      "\u001b[1;31m---------------------------------------------------------------------------\u001b[0m",
      "\u001b[1;31mNameError\u001b[0m                                 Traceback (most recent call last)",
      "Cell \u001b[1;32mIn[5], line 2\u001b[0m\n\u001b[0;32m      1\u001b[0m \u001b[38;5;66;03m#EXAMPLE 2\u001b[39;00m\n\u001b[1;32m----> 2\u001b[0m Phone_no[\u001b[38;5;241m72645\u001b[39m,\u001b[38;5;241m71843\u001b[39m,\u001b[38;5;241m72084\u001b[39m]\n\u001b[0;32m      3\u001b[0m \u001b[38;5;28mprint\u001b[39m(Phone_no)\n",
      "\u001b[1;31mNameError\u001b[0m: name 'Phone_no' is not defined"
     ]
    }
   ],
   "source": [
    "#EXAMPLE 2\n"
   ]
  },
  {
   "cell_type": "markdown",
   "id": "c727d929-943f-4d83-8c94-dee18026e841",
   "metadata": {},
   "source": [
    "### Accessing Items in a list\n",
    "*are ordered collections, i.e you can access individual items in a list by telling python the position of that item in a list\n",
    "the position of an item in a list is reffed to as *index*\n",
    "Syntax to access item in a list:\n",
    "```list_name[index of the item to access]```"
   ]
  },
  {
   "cell_type": "code",
   "execution_count": 4,
   "id": "5046143e-2efd-4942-806b-294007488b85",
   "metadata": {
    "tags": []
   },
   "outputs": [
    {
     "name": "stdout",
     "output_type": "stream",
     "text": [
      "Apple\n"
     ]
    }
   ],
   "source": [
    "#access banana\n",
    "print(fruits[1])\n"
   ]
  },
  {
   "cell_type": "code",
   "execution_count": null,
   "id": "20497764-0145-4e4e-8bed-b7f3609d438f",
   "metadata": {},
   "outputs": [],
   "source": [
    "*index position start aat**0**, not 1"
   ]
  },
  {
   "cell_type": "code",
   "execution_count": 6,
   "id": "8d6b4a45-2f19-40f0-b0cc-c530ca61c8f4",
   "metadata": {
    "tags": []
   },
   "outputs": [
    {
     "name": "stdout",
     "output_type": "stream",
     "text": [
      "NDIZI\n"
     ]
    }
   ],
   "source": [
    "print(fruits[2].upper())"
   ]
  },
  {
   "cell_type": "code",
   "execution_count": null,
   "id": "637c6ba3-54e8-4dba-8c6d-67ec2b771cd5",
   "metadata": {},
   "outputs": [],
   "source": [
    "#using negatives indexing\n",
    "print(fruits"
   ]
  },
  {
   "cell_type": "code",
   "execution_count": 8,
   "id": "1463233a-a151-455d-b497-144723fd891c",
   "metadata": {
    "tags": []
   },
   "outputs": [
    {
     "name": "stdout",
     "output_type": "stream",
     "text": [
      "Chemu loves Ndizi, especially tamu ones.\n"
     ]
    }
   ],
   "source": [
    "#using individual items in a list\n",
    "message= f\"Chemu loves {fruits[-1]}, especially tamu ones.\"\n",
    "print(message)"
   ]
  },
  {
   "cell_type": "code",
   "execution_count": 9,
   "id": "fb41888d-bc0e-44a5-8b64-53a76c8db7ad",
   "metadata": {
    "tags": []
   },
   "outputs": [
    {
     "name": "stdout",
     "output_type": "stream",
     "text": [
      "Baraka likes both Mango and Ndizis\n"
     ]
    }
   ],
   "source": [
    "message_2= f\"Baraka likes both {fruits[0]} and {fruits[2]}s\"\n",
    "print(message_2)"
   ]
  },
  {
   "cell_type": "markdown",
   "id": "d92d03c3-ff07-430b-a595-5a21166ce6f6",
   "metadata": {},
   "source": [
    "#### Modifying, adding and removing elements in a list\n",
    "*lists are dynamic , i.e, most of the lists you will create , you will add items , change items, remove items and delete the either list"
   ]
  },
  {
   "cell_type": "markdown",
   "id": "8e60402f-b0e6-4dc9-87a0-0c771dd28434",
   "metadata": {},
   "source": [
    "#modifying the items in a list\n",
    "#example list\n",
    "courts = \"Supreme\", \"High Coat\")\n",
    "print(courts)"
   ]
  },
  {
   "cell_type": "code",
   "execution_count": 21,
   "id": "1c3afaa9-fcb1-42ea-8e03-820763087c1b",
   "metadata": {
    "tags": []
   },
   "outputs": [
    {
     "name": "stdout",
     "output_type": "stream",
     "text": [
      "['Supreme', 'High Coat']\n"
     ]
    }
   ],
   "source": [
    "courts=[\"Supreme\", \"High Coat\"]\n",
    "print(courts)"
   ]
  },
  {
   "cell_type": "code",
   "execution_count": 22,
   "id": "c765d490-6b4f-424f-af69-754583c8c765",
   "metadata": {
    "tags": []
   },
   "outputs": [
    {
     "name": "stdout",
     "output_type": "stream",
     "text": [
      "['Supreme', 'High Court']\n"
     ]
    }
   ],
   "source": [
    "courts[1] = \"High Court\"\n",
    "print(courts)"
   ]
  },
  {
   "cell_type": "code",
   "execution_count": 26,
   "id": "e01e92a8-1beb-4918-81ef-151ee02cb983",
   "metadata": {
    "tags": []
   },
   "outputs": [
    {
     "ename": "SyntaxError",
     "evalue": "invalid syntax (4239706727.py, line 2)",
     "output_type": "error",
     "traceback": [
      "\u001b[1;36m  Cell \u001b[1;32mIn[26], line 2\u001b[1;36m\u001b[0m\n\u001b[1;33m    1. adding elements to the end of a list\u001b[0m\n\u001b[1;37m       ^\u001b[0m\n\u001b[1;31mSyntaxError\u001b[0m\u001b[1;31m:\u001b[0m invalid syntax\n"
     ]
    }
   ],
   "source": [
    "#adding items to a list- introducing new items to the list\n",
    "1. adding elements to the end of a list\n",
    "we use append(item to be added)\n",
    "\n",
    "courts.append(\"Magistrate Court\")\n",
    "print(courts)\n"
   ]
  },
  {
   "cell_type": "code",
   "execution_count": 18,
   "id": "fc489969-283f-4ab2-8312-a884122ff9bb",
   "metadata": {
    "tags": []
   },
   "outputs": [
    {
     "name": "stdout",
     "output_type": "stream",
     "text": [
      "['Mango', 'Apple', 'Ndizi', 'Pawpaw']\n"
     ]
    }
   ],
   "source": [
    "#example 2\n",
    "fruits.append(\"Pawpaw\")\n",
    "print(fruits)\n"
   ]
  },
  {
   "cell_type": "code",
   "execution_count": 25,
   "id": "19794d48-4500-46ef-af04-6bbbe221cd7d",
   "metadata": {
    "tags": []
   },
   "outputs": [
    {
     "name": "stdout",
     "output_type": "stream",
     "text": [
      "['Supreme', 'Court of Appeal', 'High Court']\n"
     ]
    }
   ],
   "source": [
    "#insert an item into a list at specific position\n",
    "#syntax .insert(index\n",
    "courts.insert(1, \"Court of Appeal\")\n",
    "print(courts)"
   ]
  },
  {
   "cell_type": "code",
   "execution_count": 29,
   "id": "52d18763-ffbc-4521-99d4-17063a7a1067",
   "metadata": {
    "tags": []
   },
   "outputs": [
    {
     "name": "stdout",
     "output_type": "stream",
     "text": [
      "['Mango', 'Apple', 'Ndizi']\n"
     ]
    }
   ],
   "source": [
    "#removing items in a list\n",
    "#using .pop() to remove an item at end of a list\n",
    "fruits.pop()\n",
    "print(fruits)"
   ]
  },
  {
   "cell_type": "code",
   "execution_count": 30,
   "id": "807ec0cd-1ccb-48d1-838d-8fea25982971",
   "metadata": {
    "tags": []
   },
   "outputs": [
    {
     "name": "stdout",
     "output_type": "stream",
     "text": [
      "['Apple', 'Ndizi']\n"
     ]
    }
   ],
   "source": [
    "# use .pop(index\n",
    "fruits.pop(0)\n",
    "print(fruits)\n"
   ]
  },
  {
   "cell_type": "code",
   "execution_count": 32,
   "id": "7634caad-e0ec-4948-9692-43e0117abaf8",
   "metadata": {
    "tags": []
   },
   "outputs": [
    {
     "name": "stdout",
     "output_type": "stream",
     "text": [
      "['Apple']\n"
     ]
    }
   ],
   "source": [
    "# use remove (item_value) to remove items by value\n",
    "fruits.remove(\"Ndizi\")\n",
    "print(fruits)"
   ]
  },
  {
   "cell_type": "code",
   "execution_count": 33,
   "id": "c6f9c1b9-4868-47f7-adca-be971ef3fba6",
   "metadata": {
    "tags": []
   },
   "outputs": [
    {
     "ename": "IndexError",
     "evalue": "list assignment index out of range",
     "output_type": "error",
     "traceback": [
      "\u001b[1;31m---------------------------------------------------------------------------\u001b[0m",
      "\u001b[1;31mIndexError\u001b[0m                                Traceback (most recent call last)",
      "Cell \u001b[1;32mIn[33], line 3\u001b[0m\n\u001b[0;32m      1\u001b[0m \u001b[38;5;66;03m#using del statement to remove item in a list\u001b[39;00m\n\u001b[1;32m----> 3\u001b[0m \u001b[38;5;28;01mdel\u001b[39;00m fruits[\u001b[38;5;241m1\u001b[39m]\n\u001b[0;32m      4\u001b[0m \u001b[38;5;28mprint\u001b[39m(fruits)\n",
      "\u001b[1;31mIndexError\u001b[0m: list assignment index out of range"
     ]
    }
   ],
   "source": [
    "#using del statement to remove item in a "
   ]
  },
  {
   "cell_type": "code",
   "execution_count": null,
   "id": "a0b20c89-5a86-499f-9397-bc9a591b400a",
   "metadata": {},
   "outputs": [],
   "source": []
  }
 ],
 "metadata": {
  "kernelspec": {
   "display_name": "Python 3 (ipykernel)",
   "language": "python",
   "name": "python3"
  },
  "language_info": {
   "codemirror_mode": {
    "name": "ipython",
    "version": 3
   },
   "file_extension": ".py",
   "mimetype": "text/x-python",
   "name": "python",
   "nbconvert_exporter": "python",
   "pygments_lexer": "ipython3",
   "version": "3.11.3"
  }
 },
 "nbformat": 4,
 "nbformat_minor": 5
}
