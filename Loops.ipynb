{
 "cells": [
  {
   "cell_type": "markdown",
   "id": "2cd0f83b-8796-44a6-bb2f-4fcfe69e06b8",
   "metadata": {},
   "source": [
    "##objectives\n",
    "*understand loop concept\n",
    "*Demonstrate the type of Loops\n",
    "*syntax\n",
    "*Concept of Loop control\n",
    "*Discuss iteration\n",
    "*Discuss Nested loops\n",
    "*Enhance loop Functionality\n"
   ]
  },
  {
   "cell_type": "markdown",
   "id": "666dcb59-d34c-4cd3-96a0-d5b89144b670",
   "metadata": {
    "tags": []
   },
   "source": [
    "Introduction to Repetition"
   ]
  },
  {
   "cell_type": "markdown",
   "id": "43d30520-3543-480a-a22b-406c998e2569",
   "metadata": {},
   "source": []
  },
  {
   "cell_type": "markdown",
   "id": "e861ee85-c2e8-4b47-963d-5404f8b1377b",
   "metadata": {},
   "source": [
    "*Repetition is a fundamental concept in programming that involves performing the same set of instruction multiple times"
   ]
  },
  {
   "cell_type": "markdown",
   "id": "bcef9d23-e9da-47e3-add0-af5100b83e59",
   "metadata": {},
   "source": [
    "*Used to automate tasks that require repeated execuation of code e.g *MPESA Menu*."
   ]
  },
  {
   "cell_type": "markdown",
   "id": "88a57c6a-8783-4f07-8d4a-f7c49edfa75a",
   "metadata": {},
   "source": [
    "*Loops are a key mechanism in programmin to achieve this repetition efficiently"
   ]
  },
  {
   "cell_type": "code",
   "execution_count": 4,
   "id": "25246afc-ba7a-49c0-8d2b-7a3d16a33d8d",
   "metadata": {
    "tags": []
   },
   "outputs": [
    {
     "name": "stdout",
     "output_type": "stream",
     "text": [
      "1\n",
      "2\n",
      "3\n"
     ]
    }
   ],
   "source": [
    "#consider a scenario counting 1 to 20\n",
    "print(1)\n",
    "print(2)\n",
    "print(3)"
   ]
  },
  {
   "cell_type": "code",
   "execution_count": 5,
   "id": "19999a70-9cf9-419b-b681-1f518ad7b9b1",
   "metadata": {
    "tags": []
   },
   "outputs": [
    {
     "name": "stdout",
     "output_type": "stream",
     "text": [
      "1\n",
      "2\n",
      "3\n",
      "4\n",
      "5\n",
      "6\n",
      "7\n",
      "8\n",
      "9\n"
     ]
    }
   ],
   "source": [
    "#programing loops automate tasks\n",
    "for num in range(1,10):\n",
    "    print(num)"
   ]
  },
  {
   "cell_type": "code",
   "execution_count": 11,
   "id": "62fd18d9-c179-492e-8b87-bbbf07e18419",
   "metadata": {
    "tags": []
   },
   "outputs": [
    {
     "name": "stdout",
     "output_type": "stream",
     "text": [
      "number: 0\n",
      "number: 1\n",
      "number: 2\n",
      "number: 3\n",
      "number: 4\n"
     ]
    }
   ],
   "source": [
    "#use while loops\n",
    "count = 0\n",
    "while count <5:\n",
    "    print(\"number:\",count)\n",
    "    count += 1\n",
    "        "
   ]
  },
  {
   "cell_type": "markdown",
   "id": "da31b631-4701-41e7-95ec-f3fc5bbce43d",
   "metadata": {},
   "source": [
    "##what is a loop?\n",
    "is a programming constract that enables the repeated execution of a specific block of code.\n",
    "Loops are used when you awnt to execute a specific block of code repeatedly.\n",
    "When you want to automate tasks that need to be performed multilple times.\n",
    "They control the flow of the program ,allowing certain codes to be executed repeadtly until a condition is met."
   ]
  },
  {
   "cell_type": "code",
   "execution_count": 24,
   "id": "94f65bc7-5ad0-4cca-9e75-68b5e378e68a",
   "metadata": {
    "tags": []
   },
   "outputs": [
    {
     "name": "stdout",
     "output_type": "stream",
     "text": [
      "1\n",
      "2\n",
      "3\n",
      "4\n",
      "5\n",
      "6\n",
      "7\n",
      "8\n",
      "9\n"
     ]
    }
   ],
   "source": [
    "#list of numbers\n",
    "numbers=[1,2,3,4,5,6,7,8,9]\n",
    "\n",
    "for num in numbers:\n",
    "    print(num)"
   ]
  },
  {
   "cell_type": "code",
   "execution_count": 30,
   "id": "679980b2-5f73-44b1-8159-2aae6d05971e",
   "metadata": {
    "tags": []
   },
   "outputs": [
    {
     "name": "stdout",
     "output_type": "stream",
     "text": [
      "[2, 4, 6, 8]\n",
      "[9, 7, 5, 3, 1]\n"
     ]
    }
   ],
   "source": [
    "#for fun\n",
    "even_numbers =[]\n",
    "odd_numbers =[]\n",
    "\n",
    "\n",
    "for num in numbers:\n",
    "    \n",
    "    if(num % 2== 0):\n",
    "        even_numbers.append(num)\n",
    "    elif (num % 2== 1):\n",
    "            odd_numbers.insert(0,num)\n",
    "print(even_numbers)\n",
    "print(odd_numbers)"
   ]
  },
  {
   "cell_type": "code",
   "execution_count": 31,
   "id": "64c149e7-d129-4c3c-922d-c8a6e3541c49",
   "metadata": {
    "tags": []
   },
   "outputs": [
    {
     "name": "stdout",
     "output_type": "stream",
     "text": [
      "55\n"
     ]
    }
   ],
   "source": [
    "#sum the numbers between 1 and 10\n",
    "sum = 1+2+3+4+5+6+7+8+9+10\n",
    "print(sum)"
   ]
  },
  {
   "cell_type": "code",
   "execution_count": 33,
   "id": "22ed4c99-9af9-4ad3-8e65-6f2cd56fa013",
   "metadata": {
    "tags": []
   },
   "outputs": [
    {
     "name": "stdout",
     "output_type": "stream",
     "text": [
      "55\n"
     ]
    }
   ],
   "source": [
    "#use a loop to find the sum of numbers between 1 and 10\n",
    "#declare a variable to store the sum\n",
    "sum = 0\n",
    "#creating a loop>> for loop\n",
    "\n",
    "for num in range(1,11):  #range(1,11)>> all the numbers between 1 and 11 excluding 11\n",
    "    sum += num\n",
    "print(sum)"
   ]
  },
  {
   "cell_type": "code",
   "execution_count": null,
   "id": "72340ff7-5971-4ebe-8840-e445b974669d",
   "metadata": {},
   "outputs": [],
   "source": [
    "##Control Flow\n",
    "*Loops influence the order in which instructions are executed.\n",
    "*When a  loop is encountered the program enters a loop body, executing the cointained code.\n",
    "*Syntax \n",
    "```\n",
    "loop made of a condition:\n",
    "    cointained block of \n",
    "    code to be executed \n",
    "    when condition is True/met\n",
    "\n",
    "Program exits the loop\n",
    "\n"
   ]
  },
  {
   "cell_type": "markdown",
   "id": "905fb187-e073-4e9a-88b9-32d53d95709b",
   "metadata": {},
   "source": [
    "```\n",
    ".*At each iteration, the program checks the loop condition. If the condition remains true, the loop body is executed again.\n",
    "* if it becomes false the program exits the loop"
   ]
  },
  {
   "cell_type": "markdown",
   "id": "6e4025c1-7996-4d6d-9be4-dceb4a351e07",
   "metadata": {
    "tags": []
   },
   "source": [
    "iteration refers to each circle or repetition of a loop"
   ]
  },
  {
   "cell_type": "markdown",
   "id": "60887d8c-f6cb-4624-bdce-f93fa1456223",
   "metadata": {},
   "source": []
  },
  {
   "cell_type": "code",
   "execution_count": 73,
   "id": "75a7133a-6386-4e71-9c2f-b50b832eb62d",
   "metadata": {
    "tags": []
   },
   "outputs": [
    {
     "name": "stdout",
     "output_type": "stream",
     "text": [
      "This is an example of a loop\n",
      "We are demonstrating while loops\n",
      "countdown value: 5!!\n",
      "countdown value: 4!!\n",
      "countdown value: 3!!\n",
      "countdown value: 2!!\n",
      "countdown value: 1!!\n",
      "Exit loop!and program continues\n"
     ]
    }
   ],
   "source": [
    "#example\n",
    "#assume the print statement below are block of code\n",
    "\n",
    "print(\"This is an example of a loop\")\n",
    "print(\"We are demonstrating while loops\")\n",
    "#loop to stimulate a count down\n",
    "countdown=5\n",
    "#our program meets a loop block>> while loop\n",
    "\n",
    "while (countdown >0):\n",
    "    print(f\"countdown value: {countdown}!!\")\n",
    "    countdown -= 1\n",
    "print (\"Exit loop!and program continues\")\n",
    "\n",
    "\n"
   ]
  },
  {
   "cell_type": "code",
   "execution_count": 75,
   "id": "dfb3d3e9-17ed-4141-b5f5-ccdf5a37b06d",
   "metadata": {
    "tags": []
   },
   "outputs": [
    {
     "ename": "SyntaxError",
     "evalue": "invalid syntax (2268177103.py, line 1)",
     "output_type": "error",
     "traceback": [
      "\u001b[1;36m  Cell \u001b[1;32mIn[75], line 1\u001b[1;36m\u001b[0m\n\u001b[1;33m    demonstartion of control flow\u001b[0m\n\u001b[1;37m                  ^\u001b[0m\n\u001b[1;31mSyntaxError\u001b[0m\u001b[1;31m:\u001b[0m invalid syntax\n"
     ]
    }
   ],
   "source": []
  },
  {
   "cell_type": "markdown",
   "id": "15949c4e-d7ad-431d-9979-06ea3e01f351",
   "metadata": {},
   "source": [
    "##Types of Loops\n",
    "* There are two main types of LOOPs\n",
    "```for ```and ```while```\n",
    "*Type of loop you choose depends on whether you know the number of ierations in advance or if it depends on a condition"
   ]
  },
  {
   "cell_type": "markdown",
   "id": "6d17abb5-0613-4711-8a3d-fe241da9abb6",
   "metadata": {},
   "source": [
    "when you know the number of iteration, you use while loop when you dont for loop"
   ]
  },
  {
   "cell_type": "markdown",
   "id": "ceaac49e-3397-482c-bd39-7f3db02eeaaf",
   "metadata": {},
   "source": [
    "##For Loop\n",
    "*Basic syntax\n",
    "```\n",
    "For item in sequence:\n",
    "    #code to be executed for each item\n",
    "    #...\n",
    "...\n",
    "for :signal that the start of a loop.\n",
    "* \"item\":is a variable that represents the current item in the sequence during each iteration of the loop\n",
    "*'in' : Keyword used to specific that you are iterating in the given sequence.\n",
    "*seuence :collection of items that you want to iterate over (e.g list, string,tuple\n",
    "                                                             : signifies the start of the idented code block that will be executed for eacgh iteration of the loop.\n",
    "                                                             inside the indented code block, you place the action or operations that you want to perform on each on each item in the sequence.The loop will automatically iterate through the entire sequence, executing the code block for each item."
   ]
  },
  {
   "cell_type": "code",
   "execution_count": 1,
   "id": "b8e21763-afab-4984-b341-78f1e2c14e78",
   "metadata": {
    "tags": []
   },
   "outputs": [
    {
     "name": "stdout",
     "output_type": "stream",
     "text": [
      "B\n",
      "a\n",
      "r\n",
      "a\n",
      "k\n",
      "a\n"
     ]
    }
   ],
   "source": [
    "name = \"Baraka\"\n",
    "for letter in name:\n",
    "    print(letter)\n",
    "    "
   ]
  },
  {
   "cell_type": "code",
   "execution_count": 10,
   "id": "6a3b4d98-5aba-4c67-9306-a766fb349631",
   "metadata": {
    "tags": []
   },
   "outputs": [
    {
     "name": "stdout",
     "output_type": "stream",
     "text": [
      "Kisumu\n",
      "Kisii\n",
      "Nyamira\n",
      "Homabay\n",
      "Migori\n"
     ]
    }
   ],
   "source": [
    "#code demonstration\n",
    "high_courts= ['Kisumu', 'Kisii', 'Nyamira', 'Homabay', 'Migori', 'Kitale', 'Nakuru']\n",
    "\n",
    "for court in high_courts:\n",
    "    #code block to execute for each item\n",
    "    print(court)\n",
    "    if  (court== 'Migori'):\n",
    "        break;\n",
    "    "
   ]
  },
  {
   "cell_type": "code",
   "execution_count": 9,
   "id": "5d12e8d4-6f4f-4ab6-a8c1-8ff67baf05de",
   "metadata": {
    "tags": []
   },
   "outputs": [
    {
     "data": {
      "text/plain": [
       "False"
      ]
     },
     "execution_count": 9,
     "metadata": {},
     "output_type": "execute_result"
    }
   ],
   "source": [
    "4==5"
   ]
  },
  {
   "cell_type": "markdown",
   "id": "2c8e0a3f-a8b6-4d5c-9367-75572d6d5411",
   "metadata": {},
   "source": [
    "###\n",
    "Refer to data structures that hold a collection of elements, where each element is accessible by an index or a key\n",
    "these elements are ordered meaning they have a specific position "
   ]
  },
  {
   "cell_type": "code",
   "execution_count": 11,
   "id": "8ccb2384-66d1-4adb-aa87-e170831ddb58",
   "metadata": {
    "tags": []
   },
   "outputs": [
    {
     "name": "stdout",
     "output_type": "stream",
     "text": [
      "['Kisumu', 'Kisii', 'Nyamira', 'Homabay', 'Migori', 'Kitale', 'Nakuru']\n",
      "Homabay\n"
     ]
    }
   ],
   "source": [
    "print(high_courts)\n",
    "#accessing \n",
    "print(high_courts[3])"
   ]
  },
  {
   "cell_type": "code",
   "execution_count": 14,
   "id": "2992db7b-d08e-449f-83b3-c02f08331d39",
   "metadata": {
    "tags": []
   },
   "outputs": [
    {
     "name": "stdout",
     "output_type": "stream",
     "text": [
      "kisumu\n",
      "kisii\n",
      "nyamira\n",
      "homabay\n",
      "migori\n",
      "kitale\n",
      "nakuru\n"
     ]
    }
   ],
   "source": [
    "#looping through list court\n",
    "for court in high_courts:\n",
    "#code to execute\n",
    "    lower_case=court.lower()\n",
    "    print(lower_case)"
   ]
  },
  {
   "cell_type": "code",
   "execution_count": 15,
   "id": "1ac6db3c-224f-4dae-bd8b-448ad38183ca",
   "metadata": {
    "tags": []
   },
   "outputs": [
    {
     "name": "stdout",
     "output_type": "stream",
     "text": [
      "Nakuru\n"
     ]
    }
   ],
   "source": [
    "court.lower()\n",
    "print(court)"
   ]
  },
  {
   "cell_type": "code",
   "execution_count": 23,
   "id": "a0f7f932-b329-44c8-8d49-64665faa57a4",
   "metadata": {
    "tags": []
   },
   "outputs": [
    {
     "name": "stdout",
     "output_type": "stream",
     "text": [
      "nyambane\n",
      "nyambane\n",
      "nyambane\n",
      "nyambane\n"
     ]
    }
   ],
   "source": [
    "#tuple > similar to lists, but they are immutable, meaning:\n",
    "#their contents cannot be changed after creation\n",
    "#syntax tuple_name = (item1,item2,\n",
    "\n",
    "noise_makers=('yussuf','jarso','nyambane','dominic')\n",
    "for notorious in noise_makers:\n",
    "    \n",
    "    print(noise_makers[2])\n",
    "                     "
   ]
  },
  {
   "cell_type": "code",
   "execution_count": 1,
   "id": "78a23001-fb46-46e7-8135-7aa97f2d6b27",
   "metadata": {},
   "outputs": [
    {
     "name": "stdout",
     "output_type": "stream",
     "text": [
      "J\n",
      "u\n",
      "d\n",
      "i\n",
      "c\n",
      "i\n",
      "a\n",
      "r\n",
      "y\n"
     ]
    }
   ],
   "source": [
    "#iterate through a string\n",
    "word =\"Judiciary\"\n",
    "for char in word:\n",
    "    print(char)"
   ]
  },
  {
   "cell_type": "code",
   "execution_count": 13,
   "id": "4ac5f5d4-3a41-4d74-8160-0b2ab8a4b8c9",
   "metadata": {
    "tags": []
   },
   "outputs": [
    {
     "name": "stdout",
     "output_type": "stream",
     "text": [
      "['J', 'u', 'd', 'i', 'c', 'i', 'a', 'r', 'y']\n"
     ]
    }
   ],
   "source": [
    "#empty list to store chars\n",
    "\n",
    "word_char =[]\n",
    "for char in word:\n",
    "    word_char.append(char)\n",
    "    \n",
    "print(word_char)"
   ]
  },
  {
   "cell_type": "code",
   "execution_count": 22,
   "id": "9690ccea-569e-4fba-9728-e8cccfd526f2",
   "metadata": {
    "tags": []
   },
   "outputs": [
    {
     "name": "stdout",
     "output_type": "stream",
     "text": [
      "[9, 9, 9, 9, 9]\n"
     ]
    }
   ],
   "source": [
    "#range-sequence of numbers\n",
    "#empty list to store odd numbers\n",
    "odd_nums=[]\n",
    "for nums in range(1,10):\n",
    "    if (nums%2==1):\n",
    "        odd_nums.append(num)\n",
    "print(odd_nums)        "
   ]
  },
  {
   "cell_type": "markdown",
   "id": "25e9a8d6-af10-4654-83e0-dc52a7c757a6",
   "metadata": {},
   "source": [
    "##loop body\n",
    "refers to the block of codes that is exceuted repeadly for each iteration of a loop\n",
    "In programming, a loop is designed to perform repeadted tasks automatically and the loop body cointains the instructions that define what those are.\n",
    "##important points to consider\n",
    "**indentation**-The loop body is indented to indicate that is the part of the loop.\n",
    "It define the scope of the loop body.\n",
    "**iteration**- Loop body is executed once for each item in the sequence that cointains elements upon which the instructions and execution will be repeated.\n",
    "**accessing Loop variable** the loop variable value can be accessed inside the loop body to perform specific actions to that value.\n",
    "**manipulation** inside the loop body, you can perform various operations on the loop variable or use it to interact with other parts of the program.\n"
   ]
  },
  {
   "cell_type": "code",
   "execution_count": 24,
   "id": "9ce69be1-0f8a-4b8f-beb6-e638216b7020",
   "metadata": {
    "tags": []
   },
   "outputs": [
    {
     "name": "stdout",
     "output_type": "stream",
     "text": [
      "The square of 1=1\n",
      "The square of 2=4\n",
      "The square of 3=9\n",
      "The square of 4=16\n",
      "The square of 5=25\n"
     ]
    }
   ],
   "source": [
    "for num in range(1,6):\n",
    "    square= num**2\n",
    "    print(f\"The square of {num}={square}\")"
   ]
  },
  {
   "cell_type": "markdown",
   "id": "4cae3bfc-0333-441f-b9da-5e81c0e7a260",
   "metadata": {},
   "source": [
    "###`range`()`"
   ]
  },
  {
   "cell_type": "markdown",
   "id": "a8e5ac71-ce62-4632-a0c3-803eadc756c5",
   "metadata": {},
   "source": [
    "Function commonly used when working with loops\n",
    "generate a sequence of numbers within a specified range, which can be used for various purposes e.g iterating through a loop of certain numbers.\n",
    "*Range() takes upto 3 arguments:\n",
    "1. Start(Inclusive,optional)** the starting value of the sequence.If ommitted,the sequence strats from zero by default\n",
    "2.**Stop**(exclusive) the ending value of the sequence. The sequence will go up to value but not include the value in the sequence The sequence will go up to the value, but not include the value in the sequence. example if stop is 50, and start is 0, the sequence will be all the numbers including 0 to 49, but not 50.\n",
    "3. **step(optional)** - The difference between consecutive values in the sequence. By default, the value of step is 1.\n"
   ]
  },
  {
   "cell_type": "code",
   "execution_count": 34,
   "id": "14bab83a-e0c4-4ab6-b6b9-724de899697a",
   "metadata": {
    "tags": []
   },
   "outputs": [
    {
     "name": "stdout",
     "output_type": "stream",
     "text": [
      "Hello Chemu, Welcome to Home!!\n"
     ]
    }
   ],
   "source": [
    "def greet_students(student_name):\n",
    "    message=f\"Hello {student_name}, Welcome to Home!!\"\n",
    "    return print(message)\n",
    "greet_students(\"Chemu\")"
   ]
  },
  {
   "cell_type": "code",
   "execution_count": 35,
   "id": "67876dc9-cbc8-4bbb-a064-db88ceffef45",
   "metadata": {
    "tags": []
   },
   "outputs": [
    {
     "name": "stdout",
     "output_type": "stream",
     "text": [
      "Hello Prof, Welcome to Home!!\n",
      "Hello Baraka, Welcome to Home!!\n",
      "Hello Barasa, Welcome to Home!!\n"
     ]
    }
   ],
   "source": [
    "student_names =['Prof','Baraka','Barasa']\n",
    "for name in student_names:\n",
    "    greet_students(name)"
   ]
  },
  {
   "cell_type": "code",
   "execution_count": null,
   "id": "7b8d0d0c-ed08-4d8e-a388-fa3d1098557d",
   "metadata": {},
   "outputs": [],
   "source": [
    "###Basic Range\n",
    "*Only using stop to generate a sequence of numbers from 0 to 10\n",
    "*Remember if you dont include start and step, python will automatically pick the numbers Remember if you dont include start and step, python will automatically pick the numbers 0 and 1 as the default value for stop and step\n"
   ]
  },
  {
   "cell_type": "code",
   "execution_count": 36,
   "id": "d824a3a8-4e7a-4488-8cf4-df4c657a2be7",
   "metadata": {
    "tags": []
   },
   "outputs": [
    {
     "name": "stdout",
     "output_type": "stream",
     "text": [
      "0\n",
      "1\n",
      "2\n",
      "3\n",
      "4\n",
      "5\n",
      "6\n",
      "7\n",
      "8\n",
      "9\n",
      "10\n"
     ]
    }
   ],
   "source": [
    "##from 0 to 10\n",
    "for num in range(11):\n",
    "    print(num)\n"
   ]
  },
  {
   "cell_type": "code",
   "execution_count": 38,
   "id": "912e839b-4fa4-4a17-8154-a89ecee3b882",
   "metadata": {
    "tags": []
   },
   "outputs": [
    {
     "name": "stdout",
     "output_type": "stream",
     "text": [
      "30\n",
      "31\n",
      "32\n",
      "33\n",
      "34\n",
      "35\n",
      "36\n",
      "37\n",
      "38\n",
      "39\n",
      "40\n"
     ]
    }
   ],
   "source": [
    "####specifying start and stop\n",
    "#Generate a sequence where we specify the start \n",
    "for num in range(30,41):\n",
    "    print(num)"
   ]
  },
  {
   "cell_type": "code",
   "execution_count": 40,
   "id": "318b4b2a-48a6-4919-b4e7-7113e1be04c1",
   "metadata": {
    "tags": []
   },
   "outputs": [
    {
     "name": "stdout",
     "output_type": "stream",
     "text": [
      "3\n",
      "8\n",
      "13\n",
      "18\n",
      "23\n",
      "28\n"
     ]
    }
   ],
   "source": [
    "for num in range(3,31,5):\n",
    "    print(num)"
   ]
  },
  {
   "cell_type": "code",
   "execution_count": 42,
   "id": "4f0d92e0-e295-40f0-9ee2-e4891b5f9003",
   "metadata": {
    "tags": []
   },
   "outputs": [
    {
     "name": "stdout",
     "output_type": "stream",
     "text": [
      "[0, 2, 4, 6, 8, 10, 12, 14, 16, 18, 20, 22, 24, 26, 28, 30, 32, 34, 36, 38, 40, 42, 44, 46, 48, 50, 52, 54, 56, 58, 60, 62, 64, 66, 68, 70, 72, 74, 76, 78, 80, 82, 84, 86, 88, 90, 92, 94, 96, 98, 100]\n"
     ]
    }
   ],
   "source": [
    "##even_numbers\n",
    "\n",
    "even_numbers=[]\n",
    "for num in range(0,101,2):\n",
    "    even_numbers.append(num)\n",
    "print(even_numbers)    "
   ]
  },
  {
   "cell_type": "code",
   "execution_count": 43,
   "id": "e89a7fbe-f8ad-4764-9524-7a817bbdc877",
   "metadata": {
    "tags": []
   },
   "outputs": [
    {
     "name": "stdout",
     "output_type": "stream",
     "text": [
      "['Prof', 'Baraka', 'Barasa']\n"
     ]
    }
   ],
   "source": [
    "#nested loops\n",
    "print(student_names)"
   ]
  },
  {
   "cell_type": "code",
   "execution_count": 45,
   "id": "6cd158e9-69f1-4c67-acc2-0c9ec613b9ab",
   "metadata": {
    "tags": []
   },
   "outputs": [
    {
     "name": "stdout",
     "output_type": "stream",
     "text": [
      "P\n",
      "r\n",
      "o\n",
      "f\n"
     ]
    }
   ],
   "source": [
    "item_1 =student_names[0]\n",
    "for letters in item_1:\n",
    "    print(letters)\n",
    "for students in students_names\n",
    "    print()"
   ]
  },
  {
   "cell_type": "code",
   "execution_count": 53,
   "id": "b287ba99-26ff-483d-81b7-511c5d0f7859",
   "metadata": {
    "tags": []
   },
   "outputs": [
    {
     "name": "stdout",
     "output_type": "stream",
     "text": [
      "P\n",
      "r\n",
      "o\n",
      "f\n",
      "\n",
      "B\n",
      "a\n",
      "r\n",
      "a\n",
      "k\n",
      "a\n",
      "\n",
      "B\n",
      "a\n",
      "r\n",
      "a\n",
      "s\n",
      "a\n",
      "\n"
     ]
    }
   ],
   "source": [
    "item_1 =student_names[0]\n",
    "#for letters in item_1:\n",
    "    \n",
    "for student in student_names:#first loop\n",
    "    for letters in student:\n",
    "        print(letters)\n",
    "    print()"
   ]
  },
  {
   "cell_type": "code",
   "execution_count": 69,
   "id": "405b171d-6fa4-4df0-babc-e8f51a77e5a9",
   "metadata": {
    "tags": []
   },
   "outputs": [
    {
     "name": "stdout",
     "output_type": "stream",
     "text": [
      "* \n",
      "* * \n",
      "* * * \n",
      "* * * * \n",
      "* * * * * \n"
     ]
    }
   ],
   "source": [
    "\n",
    "num_rows = 5\n",
    "Star_List = \"*\"\n",
    "for i in range (num_rows):\n",
    "    for j in range (i+1):\n",
    "        print (Star_List, end = \" \")\n",
    "    print ()\n",
    "    "
   ]
  },
  {
   "cell_type": "code",
   "execution_count": 254,
   "id": "f6bc94a7-1102-401d-addb-0f31bd9fc028",
   "metadata": {
    "tags": []
   },
   "outputs": [
    {
     "name": "stdout",
     "output_type": "stream",
     "text": [
      "* \n",
      "* * \n",
      "* * * \n",
      "* * * * \n",
      "* * * * * \n"
     ]
    }
   ],
   "source": [
    "num_rows = 5\n",
    "Star_List = \"*\"\n",
    "Space = ' '\n",
    "for i in range (num_rows): \n",
    "    for j in range (i+1):\n",
    "        print (Star_List,end = \" \")\n",
    "    print ()\n",
    "    \n"
   ]
  },
  {
   "cell_type": "code",
   "execution_count": 284,
   "id": "68bf3083-e5dc-4572-ab14-31d37d938c8c",
   "metadata": {
    "tags": []
   },
   "outputs": [
    {
     "name": "stdout",
     "output_type": "stream",
     "text": [
      "          * * * * * \n",
      "          * * * * * \n",
      "          * * * * * \n",
      "          * * * * * \n",
      "          * * * * * \n",
      "          * * * * * \n"
     ]
    }
   ],
   "source": [
    "num_rows = 5\n",
    "Star_List = \"*\"\n",
    "Space = ' '\n",
    "for i in range (num_rows): \n",
    "    for j in range (i-1):\n",
    "        for i in range (num_rows): \n",
    "            print (Space,end = \" \")\n",
    "        for j in range (i+1):\n",
    "            print (Star_List,end = \" \")\n",
    "        print ()"
   ]
  },
  {
   "cell_type": "code",
   "execution_count": 299,
   "id": "4a71038d-a1cf-49ea-8c12-f706e53c8c74",
   "metadata": {
    "tags": []
   },
   "outputs": [
    {
     "name": "stdout",
     "output_type": "stream",
     "text": [
      "          * * * * * * * * * * * * * * *           * * * * * * * * * * * * * * *           * * * * * * * * * * * * * * * \n"
     ]
    }
   ],
   "source": [
    "num_rows = 5\n",
    "Star_List = \"*\"\n",
    "Space = ' '\n",
    "for j in range (i-1):\n",
    "    for i in range (num_rows): \n",
    "        print (Space,end = \" \")\n",
    "    for i in range (num_rows): \n",
    "        for j in range (i+1):\n",
    "            print (Star_List,end = \" \")\n",
    "\n",
    "print ()"
   ]
  },
  {
   "cell_type": "code",
   "execution_count": 300,
   "id": "d0192e8e-6587-4769-8960-3b5e2d8640f5",
   "metadata": {
    "tags": []
   },
   "outputs": [
    {
     "name": "stdout",
     "output_type": "stream",
     "text": [
      "* \n",
      "* * \n",
      "* * * \n",
      "* * * * \n",
      "* * * * * \n"
     ]
    }
   ],
   "source": [
    "\n",
    "num_rows = 5\n",
    "Star_List = \"*\"\n",
    "for i in range (num_rows):\n",
    "    for j in range (i+1):\n",
    "        print (Star_List, end = \" \")\n",
    "    print ()"
   ]
  },
  {
   "cell_type": "code",
   "execution_count": 301,
   "id": "d188456c-11a5-4824-81db-61b36eb2f830",
   "metadata": {
    "tags": []
   },
   "outputs": [
    {
     "name": "stdout",
     "output_type": "stream",
     "text": [
      "* \n",
      "* * \n",
      "* * * \n",
      "* * * * \n",
      "* * * * * \n"
     ]
    }
   ],
   "source": [
    "\n",
    "num_rows = 5\n",
    "Star_List = \"*\"\n",
    "for i in range (num_rows):\n",
    "    for j in range (i+1):\n",
    "        print (Star_List, end = \" \")\n",
    "    print ()"
   ]
  },
  {
   "cell_type": "code",
   "execution_count": 308,
   "id": "318176cf-fbda-43e1-8f9f-5777848e4f99",
   "metadata": {
    "tags": []
   },
   "outputs": [
    {
     "name": "stdout",
     "output_type": "stream",
     "text": [
      "  * \n",
      "  *   * \n",
      "  *   *   * \n",
      "  *   *   *   * \n",
      "  *   *   *   *   * \n"
     ]
    }
   ],
   "source": [
    "\n",
    "num_rows = 5\n",
    "Star_List = \"*\"\n",
    "Space = ' '\n",
    "for i in range (num_rows):\n",
    "    for j in range (i+1):\n",
    "        print (Space, Star_List, end = \" \")\n",
    "    print ()"
   ]
  },
  {
   "cell_type": "code",
   "execution_count": 424,
   "id": "7c23d617-b3ac-43aa-b8d5-d153880a5ae8",
   "metadata": {
    "tags": []
   },
   "outputs": [
    {
     "name": "stdout",
     "output_type": "stream",
     "text": [
      "\n",
      "\n",
      "  * * * \n",
      "  * * * *   * * * * \n",
      "  * * * * *   * * * * *   * * * * * \n"
     ]
    }
   ],
   "source": [
    "num_rows = 5\n",
    "Star = \"*\"\n",
    "Space = ' '\n",
    "for i in range (num_rows): \n",
    "    for j in range (i-1):\n",
    "        print (Space, end = \" \")\n",
    "        for j in range (i+1):\n",
    "            print (Star, end = \" \")\n",
    "    print ()"
   ]
  },
  {
   "cell_type": "code",
   "execution_count": 452,
   "id": "85f5ffeb-0327-480e-af3c-83ac63ebcbc1",
   "metadata": {
    "tags": []
   },
   "outputs": [
    {
     "name": "stdout",
     "output_type": "stream",
     "text": [
      " * * * * * \n",
      "  * * * * * \n",
      "   * * * * * \n",
      "    * * * * * \n",
      "     * * * * * \n"
     ]
    }
   ],
   "source": [
    "num_rows = 5\n",
    "Star = \"*\"\n",
    "#Space = ' '\n",
    "for i in range (num_rows): \n",
    "    for j in range (i+1):\n",
    "        print (end = \" \")\n",
    "    i = i-1\n",
    "    for j in range (num_rows):\n",
    "        print (Star, end = \" \")\n",
    "    print ()"
   ]
  },
  {
   "cell_type": "code",
   "execution_count": 464,
   "id": "210fd519-c124-4418-b91f-ed8aae3b5b08",
   "metadata": {
    "tags": []
   },
   "outputs": [
    {
     "name": "stdout",
     "output_type": "stream",
     "text": [
      "* \n",
      "* * \n",
      "* * * \n",
      "* * * * \n",
      "* * * * * \n"
     ]
    }
   ],
   "source": [
    "rows = 5\n",
    "for i in range(rows):\n",
    "    for j in range(i + 1):\n",
    "        print('*', end=' ')\n",
    "    print()"
   ]
  },
  {
   "cell_type": "code",
   "execution_count": null,
   "id": "4868e6a2-c019-406a-9591-b9cc56cf0fba",
   "metadata": {},
   "outputs": [],
   "source": []
  },
  {
   "cell_type": "code",
   "execution_count": 470,
   "id": "8db86e0a-b8fd-4f1a-9e42-360190b33808",
   "metadata": {
    "tags": []
   },
   "outputs": [
    {
     "name": "stdout",
     "output_type": "stream",
     "text": [
      "        * \n",
      "      * * \n",
      "    * * * \n",
      "  * * * * \n",
      "* * * * * \n"
     ]
    }
   ],
   "source": [
    "rows = 5\n",
    "for i in range(rows):\n",
    "    # Print spaces before the asterisks\n",
    "    for k in range(rows -i -1):\n",
    "        print(' ', end=' ')\n",
    "    \n",
    "    # Print the asterisks for the current row\n",
    "    for j in range(i + 1):\n",
    "        print('*', end=' ')\n",
    "    \n",
    "    print()\n"
   ]
  },
  {
   "cell_type": "code",
   "execution_count": 474,
   "id": "a2e91065-fdcb-4d35-92d3-3309b2fb6a9a",
   "metadata": {
    "tags": []
   },
   "outputs": [
    {
     "name": "stdout",
     "output_type": "stream",
     "text": [
      "        * \n",
      "      * * \n",
      "    * * * \n",
      "  * * * * \n",
      "* * * * * \n"
     ]
    }
   ],
   "source": [
    "rows = 5\n",
    "Space = ' '\n",
    "Star = '*'\n",
    "for i in range(rows):\n",
    "    # Print spaces before the asterisks\n",
    "    for k in range(rows -i -1):\n",
    "        print(Space, end=' ')\n",
    "    \n",
    "    # Print the asterisks for the current row\n",
    "    for j in range(i + 1):\n",
    "        print(Star, end=' ')\n",
    "    \n",
    "    print()"
   ]
  },
  {
   "cell_type": "code",
   "execution_count": 488,
   "id": "0f51e6d0-1cc9-4e05-9c36-2004677c71e3",
   "metadata": {
    "tags": []
   },
   "outputs": [
    {
     "name": "stdout",
     "output_type": "stream",
     "text": [
      "          * \n",
      "          * * \n",
      "          * * * \n",
      "          * * * * \n"
     ]
    }
   ],
   "source": [
    "rows = 5\n",
    "Space = ' '\n",
    "Star = '*'\n",
    "for i in range(rows -i -1):\n",
    "    # Print spaces before the a\n",
    "    for k in range(rows):\n",
    "        print(Space, end=' ')\n",
    "    \n",
    "    # Print the asterisks for the current row\n",
    "    for j in range(i + 1):\n",
    "        print(Star, end=' ')\n",
    "    \n",
    "    print()"
   ]
  },
  {
   "cell_type": "code",
   "execution_count": null,
   "id": "0141c6bc-7787-406c-bc6b-1263b779fefa",
   "metadata": {},
   "outputs": [],
   "source": []
  }
 ],
 "metadata": {
  "kernelspec": {
   "display_name": "Python 3 (ipykernel)",
   "language": "python",
   "name": "python3"
  },
  "language_info": {
   "codemirror_mode": {
    "name": "ipython",
    "version": 3
   },
   "file_extension": ".py",
   "mimetype": "text/x-python",
   "name": "python",
   "nbconvert_exporter": "python",
   "pygments_lexer": "ipython3",
   "version": "3.11.3"
  }
 },
 "nbformat": 4,
 "nbformat_minor": 5
}
