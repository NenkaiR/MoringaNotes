{
 "cells": [
  {
   "cell_type": "markdown",
   "id": "2cd0f83b-8796-44a6-bb2f-4fcfe69e06b8",
   "metadata": {},
   "source": [
    "##objectives\n",
    "*understand loop concept\n",
    "*Demonstrate the type of Loops\n",
    "*syntax\n",
    "*Concept of Loop control\n",
    "*Discuss iteration\n",
    "*Discuss Nested loops\n",
    "*Enhance loop Functionality\n"
   ]
  },
  {
   "cell_type": "markdown",
   "id": "666dcb59-d34c-4cd3-96a0-d5b89144b670",
   "metadata": {
    "tags": []
   },
   "source": [
    "Introduction to Repetition"
   ]
  },
  {
   "cell_type": "markdown",
   "id": "43d30520-3543-480a-a22b-406c998e2569",
   "metadata": {},
   "source": []
  },
  {
   "cell_type": "markdown",
   "id": "e861ee85-c2e8-4b47-963d-5404f8b1377b",
   "metadata": {},
   "source": [
    "*Repetition is a fundamental concept in programming that involves performing the same set of instruction multiple times"
   ]
  },
  {
   "cell_type": "markdown",
   "id": "bcef9d23-e9da-47e3-add0-af5100b83e59",
   "metadata": {},
   "source": [
    "*Used to automate tasks that require repeated execuation of code e.g *MPESA Menu*."
   ]
  },
  {
   "cell_type": "markdown",
   "id": "88a57c6a-8783-4f07-8d4a-f7c49edfa75a",
   "metadata": {},
   "source": [
    "*Loops are a key mechanism in programmin to achieve this repetition efficiently"
   ]
  },
  {
   "cell_type": "code",
   "execution_count": 4,
   "id": "25246afc-ba7a-49c0-8d2b-7a3d16a33d8d",
   "metadata": {
    "tags": []
   },
   "outputs": [
    {
     "name": "stdout",
     "output_type": "stream",
     "text": [
      "1\n",
      "2\n",
      "3\n"
     ]
    }
   ],
   "source": [
    "#consider a scenario counting 1 to 20\n",
    "print(1)\n",
    "print(2)\n",
    "print(3)"
   ]
  },
  {
   "cell_type": "code",
   "execution_count": 5,
   "id": "19999a70-9cf9-419b-b681-1f518ad7b9b1",
   "metadata": {
    "tags": []
   },
   "outputs": [
    {
     "name": "stdout",
     "output_type": "stream",
     "text": [
      "1\n",
      "2\n",
      "3\n",
      "4\n",
      "5\n",
      "6\n",
      "7\n",
      "8\n",
      "9\n"
     ]
    }
   ],
   "source": [
    "#programing loops automate tasks\n",
    "for num in range(1,10):\n",
    "    print(num)"
   ]
  },
  {
   "cell_type": "code",
   "execution_count": 11,
   "id": "62fd18d9-c179-492e-8b87-bbbf07e18419",
   "metadata": {
    "tags": []
   },
   "outputs": [
    {
     "name": "stdout",
     "output_type": "stream",
     "text": [
      "number: 0\n",
      "number: 1\n",
      "number: 2\n",
      "number: 3\n",
      "number: 4\n"
     ]
    }
   ],
   "source": [
    "#use while loops\n",
    "count = 0\n",
    "while count <5:\n",
    "    print(\"number:\",count)\n",
    "    count += 1\n",
    "        "
   ]
  },
  {
   "cell_type": "markdown",
   "id": "da31b631-4701-41e7-95ec-f3fc5bbce43d",
   "metadata": {},
   "source": [
    "##what is a loop?\n",
    "is a programming constract that enables the repeated execution of a specific block of code.\n",
    "Loops are used when you awnt to execute a specific block of code repeatedly.\n",
    "When you want to automate tasks that need to be performed multilple times.\n",
    "They control the flow of the program ,allowing certain codes to be executed repeadtly until a condition is met."
   ]
  },
  {
   "cell_type": "code",
   "execution_count": 24,
   "id": "94f65bc7-5ad0-4cca-9e75-68b5e378e68a",
   "metadata": {
    "tags": []
   },
   "outputs": [
    {
     "name": "stdout",
     "output_type": "stream",
     "text": [
      "1\n",
      "2\n",
      "3\n",
      "4\n",
      "5\n",
      "6\n",
      "7\n",
      "8\n",
      "9\n"
     ]
    }
   ],
   "source": [
    "#list of numbers\n",
    "numbers=[1,2,3,4,5,6,7,8,9]\n",
    "\n",
    "for num in numbers:\n",
    "    print(num)"
   ]
  },
  {
   "cell_type": "code",
   "execution_count": 30,
   "id": "679980b2-5f73-44b1-8159-2aae6d05971e",
   "metadata": {
    "tags": []
   },
   "outputs": [
    {
     "name": "stdout",
     "output_type": "stream",
     "text": [
      "[2, 4, 6, 8]\n",
      "[9, 7, 5, 3, 1]\n"
     ]
    }
   ],
   "source": [
    "#for fun\n",
    "even_numbers =[]\n",
    "odd_numbers =[]\n",
    "\n",
    "\n",
    "for num in numbers:\n",
    "    \n",
    "    if(num % 2== 0):\n",
    "        even_numbers.append(num)\n",
    "    elif (num % 2== 1):\n",
    "            odd_numbers.insert(0,num)\n",
    "print(even_numbers)\n",
    "print(odd_numbers)"
   ]
  },
  {
   "cell_type": "code",
   "execution_count": 31,
   "id": "64c149e7-d129-4c3c-922d-c8a6e3541c49",
   "metadata": {
    "tags": []
   },
   "outputs": [
    {
     "name": "stdout",
     "output_type": "stream",
     "text": [
      "55\n"
     ]
    }
   ],
   "source": [
    "#sum the numbers between 1 and 10\n",
    "sum = 1+2+3+4+5+6+7+8+9+10\n",
    "print(sum)"
   ]
  },
  {
   "cell_type": "code",
   "execution_count": 33,
   "id": "22ed4c99-9af9-4ad3-8e65-6f2cd56fa013",
   "metadata": {
    "tags": []
   },
   "outputs": [
    {
     "name": "stdout",
     "output_type": "stream",
     "text": [
      "55\n"
     ]
    }
   ],
   "source": [
    "#use a loop to find the sum of numbers between 1 and 10\n",
    "#declare a variable to store the sum\n",
    "sum = 0\n",
    "#creating a loop>> for loop\n",
    "\n",
    "for num in range(1,11):  #range(1,11)>> all the numbers between 1 and 11 excluding 11\n",
    "    sum += num\n",
    "print(sum)"
   ]
  },
  {
   "cell_type": "code",
   "execution_count": null,
   "id": "72340ff7-5971-4ebe-8840-e445b974669d",
   "metadata": {},
   "outputs": [],
   "source": [
    "##Control Flow\n",
    "*Loops influence the order in which instructions are executed.\n",
    "*When a  loop is encountered the program enters a loop body, executing the cointained code.\n",
    "*Syntax \n",
    "```\n",
    "loop made of a condition:\n",
    "    cointained block of \n",
    "    code to be executed \n",
    "    when condition is True/met\n",
    "\n",
    "Program exits the loop\n",
    "\n"
   ]
  },
  {
   "cell_type": "markdown",
   "id": "905fb187-e073-4e9a-88b9-32d53d95709b",
   "metadata": {},
   "source": [
    "```\n",
    ".*At each iteration, the program checks the loop condition. If the condition remains true, the loop body is executed again.\n",
    "* if it becomes false the program exits the loop"
   ]
  },
  {
   "cell_type": "markdown",
   "id": "6e4025c1-7996-4d6d-9be4-dceb4a351e07",
   "metadata": {
    "tags": []
   },
   "source": [
    "iteration refers to each circle or repetition of a loop"
   ]
  },
  {
   "cell_type": "markdown",
   "id": "60887d8c-f6cb-4624-bdce-f93fa1456223",
   "metadata": {},
   "source": []
  },
  {
   "cell_type": "code",
   "execution_count": 73,
   "id": "75a7133a-6386-4e71-9c2f-b50b832eb62d",
   "metadata": {
    "tags": []
   },
   "outputs": [
    {
     "name": "stdout",
     "output_type": "stream",
     "text": [
      "This is an example of a loop\n",
      "We are demonstrating while loops\n",
      "countdown value: 5!!\n",
      "countdown value: 4!!\n",
      "countdown value: 3!!\n",
      "countdown value: 2!!\n",
      "countdown value: 1!!\n",
      "Exit loop!and program continues\n"
     ]
    }
   ],
   "source": [
    "#example\n",
    "#assume the print statement below are block of code\n",
    "\n",
    "print(\"This is an example of a loop\")\n",
    "print(\"We are demonstrating while loops\")\n",
    "#loop to stimulate a count down\n",
    "countdown=5\n",
    "#our program meets a loop block>> while loop\n",
    "\n",
    "while (countdown >0):\n",
    "    print(f\"countdown value: {countdown}!!\")\n",
    "    countdown -= 1\n",
    "print (\"Exit loop!and program continues\")\n",
    "\n",
    "\n"
   ]
  },
  {
   "cell_type": "code",
   "execution_count": 75,
   "id": "dfb3d3e9-17ed-4141-b5f5-ccdf5a37b06d",
   "metadata": {
    "tags": []
   },
   "outputs": [
    {
     "ename": "SyntaxError",
     "evalue": "invalid syntax (2268177103.py, line 1)",
     "output_type": "error",
     "traceback": [
      "\u001b[1;36m  Cell \u001b[1;32mIn[75], line 1\u001b[1;36m\u001b[0m\n\u001b[1;33m    demonstartion of control flow\u001b[0m\n\u001b[1;37m                  ^\u001b[0m\n\u001b[1;31mSyntaxError\u001b[0m\u001b[1;31m:\u001b[0m invalid syntax\n"
     ]
    }
   ],
   "source": []
  },
  {
   "cell_type": "markdown",
   "id": "15949c4e-d7ad-431d-9979-06ea3e01f351",
   "metadata": {},
   "source": [
    "##Types of Loops\n",
    "* There are two main types of LOOPs\n",
    "```for ```and ```while```\n",
    "*Type of loop you choose depends on whether you know the number of ierations in advance or if it depends on a condition"
   ]
  },
  {
   "cell_type": "markdown",
   "id": "6d17abb5-0613-4711-8a3d-fe241da9abb6",
   "metadata": {},
   "source": [
    "when you know the number of iteration, you use while loop when you dont for loop"
   ]
  },
  {
   "cell_type": "code",
   "execution_count": null,
   "id": "21f804fc-46e9-4a83-83b2-ad18ca54bc16",
   "metadata": {},
   "outputs": [],
   "source": []
  }
 ],
 "metadata": {
  "kernelspec": {
   "display_name": "Python 3 (ipykernel)",
   "language": "python",
   "name": "python3"
  },
  "language_info": {
   "codemirror_mode": {
    "name": "ipython",
    "version": 3
   },
   "file_extension": ".py",
   "mimetype": "text/x-python",
   "name": "python",
   "nbconvert_exporter": "python",
   "pygments_lexer": "ipython3",
   "version": "3.11.3"
  }
 },
 "nbformat": 4,
 "nbformat_minor": 5
}
