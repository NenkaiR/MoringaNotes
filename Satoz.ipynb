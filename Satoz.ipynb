{
 "cells": [
  {
   "cell_type": "code",
   "execution_count": 3,
   "id": "4c19e7a6-a668-4015-b866-8b38268a0746",
   "metadata": {
    "tags": []
   },
   "outputs": [
    {
     "name": "stdin",
     "output_type": "stream",
     "text": [
      "e.g Baraka Baraka Ongeti\n"
     ]
    },
    {
     "data": {
      "text/plain": [
       "'Baraka Ongeti'"
      ]
     },
     "execution_count": 3,
     "metadata": {},
     "output_type": "execute_result"
    }
   ],
   "source": [
    "#get student name\n",
    "def get_student_name():\n",
    "    name =input(\"e.g Baraka\")\n",
    "    return name\n",
    "get_student_name()\n",
    "    "
   ]
  },
  {
   "cell_type": "code",
   "execution_count": 12,
   "id": "99ab805f-4b2d-416f-b968-1b485642fdd6",
   "metadata": {
    "tags": []
   },
   "outputs": [
    {
     "name": "stdin",
     "output_type": "stream",
     "text": [
      "Enter English,Score:  45\n",
      "Enter Kiswahili,Score:  6\n",
      "Enter Maths,Score:  66\n",
      "Enter Science,Score:  66\n",
      "Enter GHC,Score:  66\n"
     ]
    },
    {
     "data": {
      "text/plain": [
       "[45, 6, 66, 66, 66]"
      ]
     },
     "execution_count": 12,
     "metadata": {},
     "output_type": "execute_result"
    }
   ],
   "source": [
    "def get_scores():\n",
    "    \"\"\"get user input\"\"\"\n",
    "    student_score=[]\n",
    "    subjects=[\"English\",\"Kiswahili\",\"Maths\",\"Science\",\"GHC\"]\n",
    "    for subject in subjects:\n",
    "        score =int(input(f\"Enter {subject},Score: \"))\n",
    "        student_score.append(score)\n",
    "    return student_score\n",
    "get_scores()\n",
    "\n"
   ]
  },
  {
   "cell_type": "code",
   "execution_count": 27,
   "id": "d2d36339-3538-45d3-8311-0143ffecf319",
   "metadata": {
    "tags": []
   },
   "outputs": [],
   "source": [
    "def student_performance():\n",
    "    \"\"\"Get student name\n",
    "        Get students \n",
    "    sum the students\n",
    "    \"\"\"\n",
    "    \n",
    "    student_name = get_student_name()\n",
    "    student_scores = get_scores()\n",
    "    student_grade = []\n",
    "    #loop through the grades\n",
    "    for score in student_scores:\n",
    "        if (score >=70) and (score<=100):\n",
    "            grade=\"A\"\n",
    "            student_grade.append(grade)\n",
    "            \n",
    "        elif (score >=60) and (score <70):\n",
    "            grade =\"B\"\n",
    "            student_grade.append(grade)\n",
    "              \n",
    "        elif (score >=50) and (score <60):\n",
    "            grade =\"C\"\n",
    "            student_grade.append(grade)\n",
    "              \n",
    "        elif (score >=40) and (score <50):\n",
    "            grade =\"D\"\n",
    "            student_grade.append(grade)\n",
    "              \n",
    "        elif (score >=0) and (score <40):\n",
    "            grade =\"E\"\n",
    "            student_grade.append(grade)\n",
    "        else:\n",
    "            print(\"Invalid grade\")\n",
    "            student_grade.append(None)\n",
    "    total=sum(student_scores)\n",
    "              \n",
    "    return student_name, student_scores,student_grade, total\n",
    "    "
   ]
  },
  {
   "cell_type": "code",
   "execution_count": 28,
   "id": "ea8679c3-afb4-4e78-88ef-9ebc33e74ee2",
   "metadata": {
    "tags": []
   },
   "outputs": [
    {
     "name": "stdin",
     "output_type": "stream",
     "text": [
      "e.g Baraka Baraka\n",
      "Enter English,Score:  99\n",
      "Enter Kiswahili,Score:  9\n",
      "Enter Maths,Score:  99\n",
      "Enter Science,Score:  99\n",
      "Enter GHC,Score:  99\n"
     ]
    },
    {
     "data": {
      "text/plain": [
       "('Baraka', [99, 9, 99, 99, 99], ['A', 'E', 'A', 'A', 'A'], 405)"
      ]
     },
     "execution_count": 28,
     "metadata": {},
     "output_type": "execute_result"
    }
   ],
   "source": [
    "student_performance()"
   ]
  },
  {
   "cell_type": "code",
   "execution_count": 33,
   "id": "f4f59132-076b-47a7-8bdb-f810fc31a4a8",
   "metadata": {
    "tags": []
   },
   "outputs": [
    {
     "name": "stdin",
     "output_type": "stream",
     "text": [
      "e.g Baraka Barasa\n",
      "Enter English,Score:  88\n",
      "Enter Kiswahili,Score:  88\n",
      "Enter Maths,Score:  99\n",
      "Enter Science,Score:  99\n",
      "Enter GHC,Score:  99\n",
      "e.g Baraka 99\n",
      "Enter English,Score:  99\n",
      "Enter Kiswahili,Score:  99\n",
      "Enter Maths,Score:  77\n",
      "Enter Science,Score:  77\n",
      "Enter GHC,Score:  77\n"
     ]
    }
   ],
   "source": [
    "#adding more students\n",
    "student_number=0\n",
    "class_performance ={\n",
    "    \"Name\":[],\n",
    "    \"English\":[],\n",
    "    \"English_grade\":[],\n",
    "    \"Kiswahili\":[],\n",
    "    \"Kiswahili_grade\":[],\n",
    "    \"Maths\":[],\n",
    "    \"Maths_grade\":[],\n",
    "    \"Science_grade\":[],\n",
    "    \"Science\":[],\n",
    "    \"GHC\":[],\n",
    "    \"GHC_grade\":[],\n",
    "    \"total\":[],\n",
    "    \n",
    "}\n",
    "while (student_number <2):\n",
    "    individual_student =student_performance()\n",
    "    individual_student =list(individual_student)\n",
    "    class_performance[\"Name\"].append(individual_student[0])\n",
    "    class_performance[\"English\"].append(individual_student[1][0])\n",
    "    class_performance[\"English_grade\"].append(individual_student[2][0])\n",
    "    class_performance[\"Kiswahili\"].append(individual_student[1][1])\n",
    "    class_performance[\"Kiswahili_grade\"].append(individual_student[2][1])\n",
    "    class_performance[\"Maths\"].append(individual_student[1][2])\n",
    "    class_performance[\"Maths_grade\"].append(individual_student[2][2])\n",
    "    class_performance[\"Science\"].append(individual_student[1][3])\n",
    "    class_performance[\"Science_grade\"].append(individual_student[2][3])\n",
    "    class_performance[\"GHC\"].append(individual_student[1][4])\n",
    "    class_performance[\"GHC_grade\"].append(individual_student[2][4])\n",
    "    class_performance[\"total\"].append(individual_student[3])\n",
    "    \n",
    "    \n",
    "    student_number +=1\n",
    "    \n"
   ]
  },
  {
   "cell_type": "code",
   "execution_count": 34,
   "id": "81d3e75d-fac1-48ed-ab0b-cb7b07f46835",
   "metadata": {
    "tags": []
   },
   "outputs": [
    {
     "name": "stdout",
     "output_type": "stream",
     "text": [
      "{'Name': ['Barasa', '99'], 'English': [88, 99], 'English_grade': ['A', 'A'], 'Kiswahili': [88, 99], 'Kiswahili_grade': ['A', 'A'], 'Maths': [99, 77], 'Maths_grade': ['A', 'A'], 'Science_grade': ['A', 'A'], 'Science': [99, 77], 'GHC': [99, 77], 'GHC_grade': ['A', 'A'], 'total': [473, 429]}\n"
     ]
    }
   ],
   "source": [
    "print(class_performance)"
   ]
  },
  {
   "cell_type": "code",
   "execution_count": 35,
   "id": "f3edfda2-2f2d-49aa-b638-61f06083a335",
   "metadata": {
    "tags": []
   },
   "outputs": [
    {
     "data": {
      "text/html": [
       "<div>\n",
       "<style scoped>\n",
       "    .dataframe tbody tr th:only-of-type {\n",
       "        vertical-align: middle;\n",
       "    }\n",
       "\n",
       "    .dataframe tbody tr th {\n",
       "        vertical-align: top;\n",
       "    }\n",
       "\n",
       "    .dataframe thead th {\n",
       "        text-align: right;\n",
       "    }\n",
       "</style>\n",
       "<table border=\"1\" class=\"dataframe\">\n",
       "  <thead>\n",
       "    <tr style=\"text-align: right;\">\n",
       "      <th></th>\n",
       "      <th>Name</th>\n",
       "      <th>English</th>\n",
       "      <th>English_grade</th>\n",
       "      <th>Kiswahili</th>\n",
       "      <th>Kiswahili_grade</th>\n",
       "      <th>Maths</th>\n",
       "      <th>Maths_grade</th>\n",
       "      <th>Science_grade</th>\n",
       "      <th>Science</th>\n",
       "      <th>GHC</th>\n",
       "      <th>GHC_grade</th>\n",
       "      <th>total</th>\n",
       "    </tr>\n",
       "  </thead>\n",
       "  <tbody>\n",
       "    <tr>\n",
       "      <th>0</th>\n",
       "      <td>Barasa</td>\n",
       "      <td>88</td>\n",
       "      <td>A</td>\n",
       "      <td>88</td>\n",
       "      <td>A</td>\n",
       "      <td>99</td>\n",
       "      <td>A</td>\n",
       "      <td>A</td>\n",
       "      <td>99</td>\n",
       "      <td>99</td>\n",
       "      <td>A</td>\n",
       "      <td>473</td>\n",
       "    </tr>\n",
       "    <tr>\n",
       "      <th>1</th>\n",
       "      <td>99</td>\n",
       "      <td>99</td>\n",
       "      <td>A</td>\n",
       "      <td>99</td>\n",
       "      <td>A</td>\n",
       "      <td>77</td>\n",
       "      <td>A</td>\n",
       "      <td>A</td>\n",
       "      <td>77</td>\n",
       "      <td>77</td>\n",
       "      <td>A</td>\n",
       "      <td>429</td>\n",
       "    </tr>\n",
       "  </tbody>\n",
       "</table>\n",
       "</div>"
      ],
      "text/plain": [
       "     Name  English English_grade  Kiswahili Kiswahili_grade  Maths  \\\n",
       "0  Barasa       88             A         88               A     99   \n",
       "1      99       99             A         99               A     77   \n",
       "\n",
       "  Maths_grade Science_grade  Science  GHC GHC_grade  total  \n",
       "0           A             A       99   99         A    473  \n",
       "1           A             A       77   77         A    429  "
      ]
     },
     "execution_count": 35,
     "metadata": {},
     "output_type": "execute_result"
    }
   ],
   "source": [
    "import pandas as pd\n",
    "df =pd.DataFrame(class_performance)\n",
    "df"
   ]
  },
  {
   "cell_type": "code",
   "execution_count": null,
   "id": "124298aa-d27e-45f7-b952-1e4ab7ef34a9",
   "metadata": {},
   "outputs": [],
   "source": [
    "# Adding a key value pairs in the dictionary\n",
    "class_performance={}\n",
    "class_performance[\"name\"]= \"Lumumba\"\n",
    "print (class_performance)"
   ]
  },
  {
   "cell_type": "code",
   "execution_count": null,
   "id": "26b142fe-ab7b-4363-a45d-d02c32005bc7",
   "metadata": {
    "tags": []
   },
   "outputs": [],
   "source": [
    "#get student total\n",
    "def get_student_total():\n",
    "    #Get total scores\n",
    "    #Returns:\n",
    "       # total student score\n",
    "   #\n",
    "    student_score=get_grade()\n",
    "    total =sum(student_score)\n",
    "    \n",
    "    return total\n",
    "    \n",
    "    "
   ]
  },
  {
   "cell_type": "code",
   "execution_count": null,
   "id": "8fda53fb-f024-4c2f-ae24-91b6991127f1",
   "metadata": {
    "tags": []
   },
   "outputs": [],
   "source": [
    "get_student_total()"
   ]
  },
  {
   "cell_type": "code",
   "execution_count": 26,
   "id": "7555e456-8dd1-4da3-a997-dcc7ce39072e",
   "metadata": {
    "tags": []
   },
   "outputs": [
    {
     "name": "stdin",
     "output_type": "stream",
     "text": [
      "e.g Baraka 90\n",
      "Enter English,Score:  99\n",
      "Enter Kiswahili,Score:  99\n",
      "Enter Maths,Score:  99\n",
      "Enter Science,Score:  99\n",
      "Enter GHC,Score:  9\n"
     ]
    },
    {
     "ename": "NameError",
     "evalue": "name 'grade_student' is not defined",
     "output_type": "error",
     "traceback": [
      "\u001b[1;31m---------------------------------------------------------------------------\u001b[0m",
      "\u001b[1;31mNameError\u001b[0m                                 Traceback (most recent call last)",
      "Cell \u001b[1;32mIn[26], line 1\u001b[0m\n\u001b[1;32m----> 1\u001b[0m students_performance()\n",
      "Cell \u001b[1;32mIn[25], line 7\u001b[0m, in \u001b[0;36mstudents_performance\u001b[1;34m()\u001b[0m\n\u001b[0;32m      3\u001b[0m student_name\u001b[38;5;241m=\u001b[39m get_student_name()\n\u001b[0;32m      5\u001b[0m students_score\u001b[38;5;241m=\u001b[39m get_grade()\n\u001b[1;32m----> 7\u001b[0m student_grade\u001b[38;5;241m=\u001b[39m grade_student()\n\u001b[0;32m      9\u001b[0m total_score \u001b[38;5;241m=\u001b[39m get_student_total()\n\u001b[0;32m     10\u001b[0m \u001b[38;5;28;01mreturn\u001b[39;00m student_name,student_score,student_grade,total_score\n",
      "\u001b[1;31mNameError\u001b[0m: name 'grade_student' is not defined"
     ]
    }
   ],
   "source": [
    "students_performance()"
   ]
  },
  {
   "cell_type": "code",
   "execution_count": null,
   "id": "e9de3209-ed11-45de-9462-03b7bfba0e99",
   "metadata": {},
   "outputs": [],
   "source": []
  }
 ],
 "metadata": {
  "kernelspec": {
   "display_name": "Python 3 (ipykernel)",
   "language": "python",
   "name": "python3"
  },
  "language_info": {
   "codemirror_mode": {
    "name": "ipython",
    "version": 3
   },
   "file_extension": ".py",
   "mimetype": "text/x-python",
   "name": "python",
   "nbconvert_exporter": "python",
   "pygments_lexer": "ipython3",
   "version": "3.11.3"
  }
 },
 "nbformat": 4,
 "nbformat_minor": 5
}
