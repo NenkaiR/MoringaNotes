{
 "cells": [
  {
   "cell_type": "markdown",
   "id": "04362b32-71fc-48e1-9454-40e7dccd884a",
   "metadata": {},
   "source": [
    "#Dictionary\n",
    "*data type that stores data using ***key value*** pairs\n",
    "*use curly brackets{} to define dictionary in python\n",
    "*syntax\n",
    "```key:value```"
   ]
  },
  {
   "cell_type": "code",
   "execution_count": 2,
   "id": "a8d20623-6ffa-4a25-b67e-2c3b04943b10",
   "metadata": {
    "tags": []
   },
   "outputs": [],
   "source": [
    "#example\n",
    "student ={\n",
    "    \"Name\":\"Baraka Ongeti\",\n",
    "    \"Id\"  : 4567,\n",
    "    \"Gender\" :\"Male\"\n",
    "    \n",
    "}\n"
   ]
  },
  {
   "cell_type": "code",
   "execution_count": 3,
   "id": "6ef6768e-282a-478f-8f80-56af376f1888",
   "metadata": {
    "tags": []
   },
   "outputs": [
    {
     "name": "stdout",
     "output_type": "stream",
     "text": [
      "{'Name': 'Baraka Ongeti', 'Id': 4567, 'Gender': 'Male'}\n"
     ]
    }
   ],
   "source": [
    "print(student)"
   ]
  },
  {
   "cell_type": "code",
   "execution_count": 10,
   "id": "b4ee250f-99ec-4b05-9340-31de74901c1e",
   "metadata": {
    "tags": []
   },
   "outputs": [
    {
     "name": "stdout",
     "output_type": "stream",
     "text": [
      "{'sky': ['Nyambane', 'Eugene', 'Yussuf'], 'friends of sky': ['Martin', 'Lumumba', 'Chemu'], 'Kitchen Cabinet': ['Maggy', 'Eva', 'Linda'], 'officer keeper': ['Kocheli', 'Ngobiro', 'John']}\n"
     ]
    }
   ],
   "source": [
    "#example 2\n",
    "office ={\n",
    "    \"sky\" :[\"Nyambane\",\"Eugene\",\"Yussuf\"],\n",
    "    \"friends of sky\":[\"Martin\",\"Lumumba\",\"Chemu\"],\n",
    "    \"Kitchen Cabinet\":[\"Maggy\", \"Eva\", \"Linda\"],\n",
    "    \"officer keeper\":[\"Kocheli\",\"Ngobiro\",\"John\"],\n",
    "            }\n",
    "print(office)"
   ]
  },
  {
   "cell_type": "code",
   "execution_count": 13,
   "id": "e87e33f4-521b-4ef2-9b46-6d861405f0c8",
   "metadata": {
    "tags": []
   },
   "outputs": [
    {
     "name": "stdout",
     "output_type": "stream",
     "text": [
      "['Nyambane', 'Eugene', 'Yussuf']\n"
     ]
    }
   ],
   "source": [
    "#access values in a dictionary using keys\n",
    "#syntax dictionary _name[key]\n",
    "print(office[\"sky\"])"
   ]
  },
  {
   "cell_type": "code",
   "execution_count": 14,
   "id": "67f6069b-18e7-41ec-a4b6-3b3900906a02",
   "metadata": {
    "tags": []
   },
   "outputs": [
    {
     "name": "stdout",
     "output_type": "stream",
     "text": [
      "{'sky': ['Nyambane', 'Eugene', 'Yussuf', 'GK'], 'friends of sky': ['Martin', 'Lumumba', 'Chemu'], 'Kitchen Cabinet': ['Maggy', 'Eva', 'Linda'], 'officer keeper': ['Kocheli', 'Ngobiro', 'John']}\n"
     ]
    }
   ],
   "source": [
    "office[\"sky\"].append(\"GK\")\n",
    "print(office)"
   ]
  },
  {
   "cell_type": "code",
   "execution_count": 16,
   "id": "a8af737f-facd-4988-bab5-6cb9c9c93524",
   "metadata": {
    "tags": []
   },
   "outputs": [
    {
     "name": "stdout",
     "output_type": "stream",
     "text": [
      "['Nyambane', 'Eugene', 'Yussuf', 'GK']\n"
     ]
    }
   ],
   "source": [
    "print(office[\"sky\"])"
   ]
  },
  {
   "cell_type": "code",
   "execution_count": 19,
   "id": "7049aa2d-63e6-415f-95aa-48958847f8e3",
   "metadata": {
    "tags": []
   },
   "outputs": [
    {
     "name": "stdout",
     "output_type": "stream",
     "text": [
      "['Nyambane', 'Eugene', 'Yussuf', 'GK']\n"
     ]
    }
   ],
   "source": [
    "print(office[\"sky\"])"
   ]
  },
  {
   "cell_type": "code",
   "execution_count": 22,
   "id": "c210f2b1-f869-4246-ae27-b920eb99ea29",
   "metadata": {
    "tags": []
   },
   "outputs": [
    {
     "name": "stdout",
     "output_type": "stream",
     "text": [
      "Chemu\n"
     ]
    }
   ],
   "source": [
    "print(office[\"friends of sky\"] [2].title())\n"
   ]
  },
  {
   "cell_type": "code",
   "execution_count": 43,
   "id": "c65a1f4f-362c-4f9b-893e-918aca9c9ad3",
   "metadata": {
    "tags": []
   },
   "outputs": [],
   "source": [
    "menu = {\n",
    "    \"Breakfast\" :{\n",
    "        \"Beverages\": {\n",
    "        \"Tea\" :[\"masala\",\"Ginger\",\"caramel\"],\n",
    "        \"Coffee\":[\"Black\",\"white\",\"latte\"],\n",
    "        \"Cocoa\":[\"hot chocolate\",\"free range\"],\n",
    "    },\n",
    "    \"accompanments\" :{\n",
    "        \"wings\":[\"hot wings\",\"spicy\",\"lemon and herbs\"],\n",
    "        \"Kienyeji\":[\"nduma\",\"Nguashe\", \"Cassava\"]},\n",
    "    },\n",
    "    \"lunch\": {\"carbohydrates\":[\"ugali\",\"mokimo\",\"rice\"],\n",
    "              \"Veges\":[\"skuma\",\"cabbages\"],\n",
    "              \"Proteins\" :[\"chicken\",\"fish\",\"mutton\"],\n",
    "             },\n",
    "}\n",
    "        \n",
    "    \n",
    "    "
   ]
  },
  {
   "cell_type": "code",
   "execution_count": 44,
   "id": "9152d23a-cf3d-4b29-b619-18316754f168",
   "metadata": {
    "tags": []
   },
   "outputs": [
    {
     "name": "stdout",
     "output_type": "stream",
     "text": [
      "{'Breakfast': {'Beverages': {'Tea': ['masala', 'Ginger', 'caramel'], 'Coffee': ['Black', 'white', 'latte'], 'Cocoa': ['hot chocolate', 'free range']}, 'accompanments': {'wings': ['hot wings', 'spicy', 'lemon and herbs'], 'Kienyeji': ['nduma', 'Nguashe', 'Cassava']}}, 'lunch': {'carbohydrates': ['ugali', 'mokimo', 'rice'], 'Veges': ['skuma', 'cabbages'], 'Proteins': ['chicken', 'fish', 'mutton']}}\n"
     ]
    }
   ],
   "source": [
    "print(menu)"
   ]
  },
  {
   "cell_type": "code",
   "execution_count": 45,
   "id": "da53d121-2c1c-408f-8ea3-673129cba82d",
   "metadata": {
    "tags": []
   },
   "outputs": [
    {
     "name": "stdout",
     "output_type": "stream",
     "text": [
      "{'Beverages': {'Tea': ['masala', 'Ginger', 'caramel'], 'Coffee': ['Black', 'white', 'latte'], 'Cocoa': ['hot chocolate', 'free range']}, 'accompanments': {'wings': ['hot wings', 'spicy', 'lemon and herbs'], 'Kienyeji': ['nduma', 'Nguashe', 'Cassava']}}\n"
     ]
    }
   ],
   "source": [
    "print(menu[\"Breakfast\"])\n",
    "                          "
   ]
  },
  {
   "cell_type": "code",
   "execution_count": 47,
   "id": "47796e60-9cc5-4957-895c-b3148486d5a5",
   "metadata": {
    "tags": []
   },
   "outputs": [
    {
     "data": {
      "text/plain": [
       "dict"
      ]
     },
     "execution_count": 47,
     "metadata": {},
     "output_type": "execute_result"
    }
   ],
   "source": [
    "type(menu[\"Breakfast\"])"
   ]
  },
  {
   "cell_type": "code",
   "execution_count": 48,
   "id": "cd2bf36a-0c12-4d8d-92e8-f032e6e099a8",
   "metadata": {
    "tags": []
   },
   "outputs": [
    {
     "data": {
      "text/plain": [
       "dict_keys(['Beverages', 'accompanments'])"
      ]
     },
     "execution_count": 48,
     "metadata": {},
     "output_type": "execute_result"
    }
   ],
   "source": [
    "menu[\"Breakfast\"].keys()"
   ]
  },
  {
   "cell_type": "code",
   "execution_count": 49,
   "id": "f746bcdc-5b8b-44f6-933a-0ae90ef7a232",
   "metadata": {
    "tags": []
   },
   "outputs": [
    {
     "name": "stdout",
     "output_type": "stream",
     "text": [
      "{'Tea': ['masala', 'Ginger', 'caramel'], 'Coffee': ['Black', 'white', 'latte'], 'Cocoa': ['hot chocolate', 'free range']}\n"
     ]
    }
   ],
   "source": [
    "print(menu[\"Breakfast\"][\"Beverages\"])"
   ]
  },
  {
   "cell_type": "code",
   "execution_count": 51,
   "id": "d8b52b38-e490-4d7b-bad6-9558bb7fa588",
   "metadata": {
    "tags": []
   },
   "outputs": [
    {
     "name": "stdout",
     "output_type": "stream",
     "text": [
      "['masala', 'Ginger', 'caramel']\n"
     ]
    }
   ],
   "source": [
    "print(menu[\"Breakfast\"][\"Beverages\"][\"Tea\"])"
   ]
  },
  {
   "cell_type": "code",
   "execution_count": 58,
   "id": "fc9f49dd-4a05-47fc-8e58-3bad70999c6f",
   "metadata": {
    "tags": []
   },
   "outputs": [
    {
     "name": "stdout",
     "output_type": "stream",
     "text": [
      "Baraka had the following for breakfast:\n",
      "\t*masala\n"
     ]
    }
   ],
   "source": [
    "print (f'Baraka had the following for breakfast:\\n\\t*{menu[\"Breakfast\"][\"Beverages\"][\"Tea\"][0]}')"
   ]
  },
  {
   "cell_type": "code",
   "execution_count": 62,
   "id": "7b18131d-0762-4084-8ac6-aab817f13a5b",
   "metadata": {
    "tags": []
   },
   "outputs": [
    {
     "name": "stdout",
     "output_type": "stream",
     "text": [
      "Baraka had the following for breakfast:\n",
      "\t*masala\n",
      "\t*hot wings\n"
     ]
    }
   ],
   "source": [
    "print (f'Baraka had the following for breakfast:\\n\\t*{menu[\"Breakfast\"][\"Beverages\"][\"Tea\"][0]}\\n\\t*{menu[\"Breakfast\"][\"accompanments\"][\"wings\"][0]}')"
   ]
  },
  {
   "cell_type": "code",
   "execution_count": null,
   "id": "b30d42c7-e4c5-4b97-8e3d-6807a933036e",
   "metadata": {},
   "outputs": [],
   "source": []
  }
 ],
 "metadata": {
  "kernelspec": {
   "display_name": "Python 3 (ipykernel)",
   "language": "python",
   "name": "python3"
  },
  "language_info": {
   "codemirror_mode": {
    "name": "ipython",
    "version": 3
   },
   "file_extension": ".py",
   "mimetype": "text/x-python",
   "name": "python",
   "nbconvert_exporter": "python",
   "pygments_lexer": "ipython3",
   "version": "3.11.3"
  }
 },
 "nbformat": 4,
 "nbformat_minor": 5
}
