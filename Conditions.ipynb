{
 "cells": [
  {
   "cell_type": "code",
   "execution_count": 6,
   "id": "6339c394-9e9a-4e32-9f0d-ec153576d634",
   "metadata": {
    "tags": []
   },
   "outputs": [
    {
     "name": "stdout",
     "output_type": "stream",
     "text": [
      "1\n"
     ]
    }
   ],
   "source": [
    "#leave days\n",
    "leave_days=0\n",
    "leave_days = leave_days + 1\n",
    "print(leave_days)"
   ]
  },
  {
   "cell_type": "code",
   "execution_count": 10,
   "id": "ba275734-193a-496b-918a-eaf3e28504fa",
   "metadata": {
    "tags": []
   },
   "outputs": [
    {
     "name": "stdout",
     "output_type": "stream",
     "text": [
      "2\n"
     ]
    }
   ],
   "source": [
    "#incrementing variables by value\n",
    "leave_days += 1\n",
    "print(leave_days)"
   ]
  },
  {
   "cell_type": "code",
   "execution_count": 18,
   "id": "67f42b11-902e-4877-b943-fc18ff5d9c38",
   "metadata": {
    "tags": []
   },
   "outputs": [],
   "source": [
    "leave_days = 21"
   ]
  },
  {
   "cell_type": "code",
   "execution_count": 11,
   "id": "dee27f63-a805-4279-abac-e85366529528",
   "metadata": {
    "tags": []
   },
   "outputs": [
    {
     "name": "stdout",
     "output_type": "stream",
     "text": [
      "1\n"
     ]
    }
   ],
   "source": [
    "#decrementing variables\n",
    "leave_days -=1\n",
    "print(leave_days)"
   ]
  },
  {
   "cell_type": "code",
   "execution_count": 1,
   "id": "d41db2ff-fc4a-40dc-a736-44575d0e52af",
   "metadata": {
    "tags": []
   },
   "outputs": [
    {
     "name": "stdout",
     "output_type": "stream",
     "text": [
      "20\n"
     ]
    }
   ],
   "source": [
    "leave_days = 21\n",
    "\n",
    "take_leave = True\n",
    "#decide to take leave#condition\n",
    "if take_leave:\n",
    "    leave_days -=1\n",
    "print(leave_days)"
   ]
  },
  {
   "cell_type": "code",
   "execution_count": 2,
   "id": "33590d66-64c7-4490-a032-a914d3a48996",
   "metadata": {
    "tags": []
   },
   "outputs": [
    {
     "name": "stdout",
     "output_type": "stream",
     "text": [
      "You can have ID\n"
     ]
    }
   ],
   "source": [
    "age = 20\n",
    "if age > 18: #condition\n",
    "    print(\"You can have ID\")\n",
    "    "
   ]
  },
  {
   "cell_type": "code",
   "execution_count": 9,
   "id": "ca7f77da-ac8a-443e-a6b1-98c51638aea3",
   "metadata": {
    "tags": []
   },
   "outputs": [
    {
     "name": "stdout",
     "output_type": "stream",
     "text": [
      "D\n"
     ]
    }
   ],
   "source": [
    "if (score > 40):\n",
    "    grade = \"D\"\n",
    "    print(grade)"
   ]
  },
  {
   "cell_type": "code",
   "execution_count": 8,
   "id": "3328c575-04fa-4486-9178-f71bdadf991c",
   "metadata": {
    "tags": []
   },
   "outputs": [
    {
     "name": "stdout",
     "output_type": "stream",
     "text": [
      "Pass\n"
     ]
    }
   ],
   "source": [
    "score = 45\n",
    "if score > 40:\n",
    "    grade =\"D\"\n",
    "    outcome =\"Pass\"\n",
    "    print(outcome)\n",
    "\n",
    "else:\n",
    "    outcome =\"Fail\"\n",
    "    print(outcome)"
   ]
  },
  {
   "cell_type": "code",
   "execution_count": 53,
   "id": "a66a1c9e-d150-445c-bc9a-8ae7a4aeb76d",
   "metadata": {
    "tags": []
   },
   "outputs": [],
   "source": [
    "# if and condition is met \n",
    "age = 19 \n",
    "gender = \"Male\" \n",
    "\n",
    "if (age < 18) and (gender == \"Male\"):\n",
    "    \n",
    "    print (\"Boy\")\n"
   ]
  },
  {
   "cell_type": "code",
   "execution_count": 58,
   "id": "dbd612ef-d207-4e6b-8f2a-6412328a0935",
   "metadata": {
    "tags": []
   },
   "outputs": [
    {
     "name": "stdout",
     "output_type": "stream",
     "text": [
      "D\n"
     ]
    }
   ],
   "source": [
    "# grades\n",
    "\n",
    "grade = 43\n",
    "if (grade>40) and (grade<50):\n",
    "    grade = 'D'\n",
    "    print(grade)\n",
    "    \n",
    "elif (grade >=50) and (grade<60):\n",
    "    grade = 'C'\n",
    "    print(grade)\n",
    "\n",
    "elif (grade >=60) and (grade<70):\n",
    "    grade = 'B'\n",
    "    print(grade)\n",
    "    \n",
    "elif grade >70:\n",
    "    grade= 'A'\n",
    "    print(grade)\n",
    "\n",
    "else: \n",
    "    print('fail')\n",
    "    \n",
    "\n",
    "\n"
   ]
  },
  {
   "cell_type": "code",
   "execution_count": null,
   "id": "a38bc813-b748-4733-9c5d-d90a278aa31c",
   "metadata": {},
   "outputs": [],
   "source": [
    "##AND\n",
    "*used to join two or more conditions\n",
    "*example students who score"
   ]
  },
  {
   "cell_type": "code",
   "execution_count": 15,
   "id": "6f521d6f-ba20-4ad7-9572-cf56b4cd292d",
   "metadata": {
    "tags": []
   },
   "outputs": [
    {
     "name": "stdout",
     "output_type": "stream",
     "text": [
      "D\n"
     ]
    }
   ],
   "source": [
    "#grader\n",
    "#def grader(students_grade)\n",
    "\n",
    "grade = 43\n",
    "    \n",
    "if (grade>40) and (grade<50):\n",
    "    grade = 'D'\n",
    "    print(grade)\n",
    "\n",
    "elif (grade >=50) and (grade<60):\n",
    "    grade = 'C'\n",
    "    print(grade)\n",
    "\n",
    "elif (grade >=60) and (grade<70):\n",
    "    grade = 'B'\n",
    "    print(grade)\n",
    "\n",
    "elif grade >70:\n",
    "    grade= 'A'\n",
    "    print(grade)\n",
    "\n",
    "else:\n",
    "    print('fail')"
   ]
  },
  {
   "cell_type": "code",
   "execution_count": 65,
   "id": "2e77ee0c-41b8-47a2-b346-09de26bc0a14",
   "metadata": {
    "tags": []
   },
   "outputs": [
    {
     "name": "stdout",
     "output_type": "stream",
     "text": [
      "i am a baby\n"
     ]
    }
   ],
   "source": [
    "##\n",
    "height =45\n",
    "weight =60\n",
    "if (height > 40) or (weight > 50):\n",
    "    print(\"i am a baby\")"
   ]
  },
  {
   "cell_type": "code",
   "execution_count": 70,
   "id": "8982ec86-302f-45c9-8271-08ee5b80fa1b",
   "metadata": {
    "tags": []
   },
   "outputs": [
    {
     "name": "stdout",
     "output_type": "stream",
     "text": [
      "you are an adult\n"
     ]
    }
   ],
   "source": [
    "height =65\n",
    "weight =90\n",
    "if (height > 80) or (weight < 10):\n",
    "    print(\"i am a baby\")\n",
    "else:\n",
    "    print(\"you are an adult\")"
   ]
  },
  {
   "cell_type": "markdown",
   "id": "c87e7ff8-0282-423d-b35b-db270e4a0f43",
   "metadata": {},
   "source": [
    "# Assignment"
   ]
  },
  {
   "cell_type": "code",
   "execution_count": null,
   "id": "b566cc0c-227d-4676-a562-0a5f0a792145",
   "metadata": {},
   "outputs": [],
   "source": [
    "#Write a program that determines whether a number is even or odd. Print a message indicating whether the number is even or odd.\n"
   ]
  },
  {
   "cell_type": "code",
   "execution_count": 16,
   "id": "ea25aaba-0cad-493c-a587-7d39a015ff10",
   "metadata": {
    "tags": []
   },
   "outputs": [
    {
     "name": "stdout",
     "output_type": "stream",
     "text": [
      "even\n"
     ]
    }
   ],
   "source": [
    "number = 12\n",
    "\n",
    "if(number % 2) == 0:\n",
    "    print(\"even\")\n",
    "    \n",
    "else:\n",
    "    print(\"odd\")"
   ]
  },
  {
   "cell_type": "code",
   "execution_count": 17,
   "id": "5f8d2fa6-04fb-404d-abb9-d5fdf0d669a0",
   "metadata": {
    "tags": []
   },
   "outputs": [
    {
     "name": "stdout",
     "output_type": "stream",
     "text": [
      "odd\n"
     ]
    }
   ],
   "source": [
    "number = 17\n",
    "\n",
    "if(number % 2) == 0:\n",
    "    print(\"even\")\n",
    "    \n",
    "else:\n",
    "    print(\"odd\") "
   ]
  },
  {
   "cell_type": "code",
   "execution_count": 22,
   "id": "5504d4d6-0d1f-4974-b372-167d92e4fa9c",
   "metadata": {
    "tags": []
   },
   "outputs": [
    {
     "name": "stdout",
     "output_type": "stream",
     "text": [
      "Leap Year\n"
     ]
    }
   ],
   "source": [
    "#Write a program that checks if a given year is a leap year. A leap year is divisible by 4, but not divisible by 100, except if its divisible by 400.\n",
    "year = 2000\n",
    "\n",
    "if (year%4==0) and (year%100!=0) or (year%400==0): \n",
    "    outcome = \"Leap Year\"\n",
    "    print(outcome)\n",
    "else:\n",
    "    outcome = \"Not Leap Year\"\n",
    "    print(outcome)"
   ]
  },
  {
   "cell_type": "code",
   "execution_count": 19,
   "id": "d8a581dc-c8e0-49e8-9ea1-34a538d0f1e9",
   "metadata": {
    "tags": []
   },
   "outputs": [
    {
     "name": "stdout",
     "output_type": "stream",
     "text": [
      "Not Leap Year\n"
     ]
    }
   ],
   "source": [
    "year = 2005\n",
    "\n",
    "if (year%4==0) and (year%100!=0) or (year%400==0): \n",
    "    outcome = \"Leap Year\"\n",
    "    print(outcome)\n",
    "else:\n",
    "    outcome = \"Not Leap Year\"\n",
    "    print(outcome)"
   ]
  },
  {
   "cell_type": "code",
   "execution_count": 21,
   "id": "b6760066-495d-48ec-89de-a35741e1b040",
   "metadata": {
    "tags": []
   },
   "outputs": [
    {
     "name": "stdout",
     "output_type": "stream",
     "text": [
      "Kes. 400\n"
     ]
    }
   ],
   "source": [
    "Age = 11\n",
    "\n",
    "if (Age < 13):\n",
    "    price = \"Kes. 400\"\n",
    "    print(price)\n",
    "\n",
    "elif (Age >= 13) and (Age <= 17):\n",
    "    price = \"Kes. 600\"\n",
    "    print(price)\n",
    "    \n",
    "elif (Age >= 18) and (Age <= 65):\n",
    "    price = \"Kes. 800\"\n",
    "    print(price)\n",
    "\n",
    "else:\n",
    "    price = \"Kes. 350\"\n",
    "    print(price)"
   ]
  },
  {
   "cell_type": "code",
   "execution_count": 24,
   "id": "0a265674-e20c-4b06-908f-58cd480316a6",
   "metadata": {
    "tags": []
   },
   "outputs": [
    {
     "name": "stdout",
     "output_type": "stream",
     "text": [
      "Ksh 600\n"
     ]
    }
   ],
   "source": [
    "#13 <= Age <=17 Ksh 600\n",
    "if (Age <13):\n",
    "    price = \"Ksh 600\"\n",
    "    print(price)"
   ]
  },
  {
   "cell_type": "code",
   "execution_count": 26,
   "id": "0c15698e-62a3-431d-84d0-fa5f2fb516ca",
   "metadata": {
    "tags": []
   },
   "outputs": [
    {
     "name": "stdout",
     "output_type": "stream",
     "text": [
      "Kes. 350\n"
     ]
    }
   ],
   "source": [
    "#Age vs. Price\n",
    "\n",
    "Age = 68\n",
    "\n",
    "if (Age < 13):\n",
    "    price = \"Kes. 400\"\n",
    "    print(price)\n",
    "\n",
    "elif (Age >= 13) and (Age <= 17):\n",
    "    price = \"Kes. 600\"\n",
    "    print(price)\n",
    "    \n",
    "elif (Age >= 18) and (Age <= 65):\n",
    "    price = \"Kes. 800\"\n",
    "    print(price)\n",
    "\n",
    "else:\n",
    "    price = \"Kes. 350\"\n",
    "    print(price)\n",
    "    "
   ]
  },
  {
   "cell_type": "code",
   "execution_count": null,
   "id": "9e22af86-d173-4ea4-9a67-74fb84cf06b8",
   "metadata": {},
   "outputs": [],
   "source": []
  }
 ],
 "metadata": {
  "kernelspec": {
   "display_name": "Python 3 (ipykernel)",
   "language": "python",
   "name": "python3"
  },
  "language_info": {
   "codemirror_mode": {
    "name": "ipython",
    "version": 3
   },
   "file_extension": ".py",
   "mimetype": "text/x-python",
   "name": "python",
   "nbconvert_exporter": "python",
   "pygments_lexer": "ipython3",
   "version": "3.11.3"
  }
 },
 "nbformat": 4,
 "nbformat_minor": 5
}
