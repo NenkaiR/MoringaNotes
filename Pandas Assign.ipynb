{
 "cells": [
  {
   "cell_type": "code",
   "execution_count": 6,
   "id": "cac95ea2-5e14-4f11-98c0-b75017409233",
   "metadata": {
    "tags": []
   },
   "outputs": [],
   "source": [
    "import numpy as np\n",
    "import pandas as pd"
   ]
  },
  {
   "cell_type": "code",
   "execution_count": 7,
   "id": "344a2102-1d82-44ff-8366-85557be00c42",
   "metadata": {
    "tags": []
   },
   "outputs": [],
   "source": [
    "random_nyumbas =np.random.randint(4000,20000, size=120)"
   ]
  },
  {
   "cell_type": "code",
   "execution_count": 5,
   "id": "2dbfb2ce-d940-4f43-8415-650c59fb4695",
   "metadata": {
    "tags": []
   },
   "outputs": [
    {
     "data": {
      "text/plain": [
       "array([ 8778,  6162, 14402, 10433,  4299, 17953, 19070, 19955, 16419,\n",
       "       15758,  6852, 16657, 19400, 17328, 12341,  5927, 15399, 12219,\n",
       "        7293,  6385, 14939, 12978, 15108, 18606, 18764, 12578, 18656,\n",
       "       12318,  9697,  4793, 12063, 17218, 12974, 18114, 18917, 19716,\n",
       "       11030,  8256, 16302, 10472, 10766,  8325, 17120,  9479,  8501,\n",
       "       10539, 19965,  5415, 13616, 15973,  9411, 17661, 16575, 11247,\n",
       "       12926, 13883, 12547,  8926, 10783,  7468, 13400, 12276, 10468,\n",
       "       13462, 14972, 16493, 17990, 13627, 18274,  8640, 15733,  6233,\n",
       "        8090, 17202, 14884, 11644,  6409, 17814, 19750, 18870,  7461,\n",
       "        8804, 13932, 11250,  7641,  6174, 11721, 12454,  9806, 13518,\n",
       "        5343, 17086, 17957,  8912, 19808,  7977, 16419, 12299,  7517,\n",
       "       12284,  5983, 12437,  9607, 15798, 18688, 18228,  9761,  8048,\n",
       "        6256, 14566, 11007, 18507, 14624, 11602, 17599,  9864,  7823,\n",
       "       14755, 19529,  5257])"
      ]
     },
     "execution_count": 5,
     "metadata": {},
     "output_type": "execute_result"
    }
   ],
   "source": [
    "random_nyumbas"
   ]
  },
  {
   "cell_type": "code",
   "execution_count": 10,
   "id": "afce92b2-0c22-4086-8857-db166d6aa8aa",
   "metadata": {
    "tags": []
   },
   "outputs": [
    {
     "data": {
      "text/plain": [
       "0       7991\n",
       "1       8207\n",
       "2       6976\n",
       "3      19000\n",
       "4      17452\n",
       "       ...  \n",
       "115     4227\n",
       "116    19587\n",
       "117    13110\n",
       "118    11382\n",
       "119     9316\n",
       "Name: nyumba_ziko, Length: 120, dtype: int32"
      ]
     },
     "execution_count": 10,
     "metadata": {},
     "output_type": "execute_result"
    }
   ],
   "source": [
    "#Display the first and last 7 houses.\n",
    "random_nyumbas= pd.Series(random_nyumbas, name=\"nyumba_ziko\")\n",
    "random_nyumbas\n"
   ]
  },
  {
   "cell_type": "code",
   "execution_count": 11,
   "id": "55acb40b-68cb-4b7e-b15d-aedc68b588a5",
   "metadata": {
    "tags": []
   },
   "outputs": [
    {
     "data": {
      "text/plain": [
       "0     7991\n",
       "1     8207\n",
       "2     6976\n",
       "3    19000\n",
       "4    17452\n",
       "5    19962\n",
       "6    17097\n",
       "Name: nyumba_ziko, dtype: int32"
      ]
     },
     "execution_count": 11,
     "metadata": {},
     "output_type": "execute_result"
    }
   ],
   "source": [
    "#Display the first and last 7 houses.\n",
    "random_nyumbas.head(7)"
   ]
  },
  {
   "cell_type": "code",
   "execution_count": 12,
   "id": "3df4d41c-b2f0-4855-8ee0-f2e49b0cf31d",
   "metadata": {
    "tags": []
   },
   "outputs": [
    {
     "data": {
      "text/plain": [
       "113     9465\n",
       "114     5526\n",
       "115     4227\n",
       "116    19587\n",
       "117    13110\n",
       "118    11382\n",
       "119     9316\n",
       "Name: nyumba_ziko, dtype: int32"
      ]
     },
     "execution_count": 12,
     "metadata": {},
     "output_type": "execute_result"
    }
   ],
   "source": [
    "random_nyumbas.tail(7)"
   ]
  },
  {
   "cell_type": "code",
   "execution_count": 13,
   "id": "1fe095af-5920-44df-acbb-4707455e9375",
   "metadata": {
    "tags": []
   },
   "outputs": [],
   "source": [
    "#Create a function that will take in the price of the house and return the category of that house, eg Suburb. The category is of your own series.\n",
    "def nyumba_category(a):\n",
    "    if a <= 3000:\n",
    "        return \"Kibich\"\n",
    "    elif a <= 9000:\n",
    "        return \"Ruaka\"\n",
    "    elif a <= 15000:\n",
    "        return \"Paipu\"\n",
    "    elif a <= 20000:\n",
    "        return \"Runda\"\n",
    "    else: return \"Kwani Unaishi?\"\n",
    "     \n"
   ]
  },
  {
   "cell_type": "code",
   "execution_count": null,
   "id": "97706ec8-a1f8-4888-b9f7-b737fb01ce16",
   "metadata": {
    "tags": []
   },
   "outputs": [],
   "source": []
  },
  {
   "cell_type": "code",
   "execution_count": 14,
   "id": "c6baabeb-bad6-4358-9238-eebbf7cef480",
   "metadata": {
    "tags": []
   },
   "outputs": [],
   "source": [
    "#Apply the function created above to the series.\n",
    "house_zone = random_nyumbas.apply(nyumba_category)"
   ]
  },
  {
   "cell_type": "code",
   "execution_count": 17,
   "id": "188dfa12-5934-4358-8cc5-4b7b0b2d985d",
   "metadata": {
    "tags": []
   },
   "outputs": [],
   "source": [
    "#Apply a lambda function to increase the property prices by 10% due to the new tax laws.\n",
    "price_increase = pd.Series(random_nyumbas).apply(lambda a: a * 1.10)\n"
   ]
  },
  {
   "cell_type": "code",
   "execution_count": 21,
   "id": "2eb2976a-2fe2-41a0-98dc-89feadeabb8c",
   "metadata": {},
   "outputs": [],
   "source": [
    "#Apply a custom function to increase the property prices by and additional Ksh 250 for garbage.\n",
    "def garbage_price(a):\n",
    "    return a+250\n",
    "\n",
    "overall_price=pd.Series(price_increase).apply(garbage_price)\n"
   ]
  },
  {
   "cell_type": "code",
   "execution_count": 22,
   "id": "aab6410f-14f6-4683-8170-040a63d7f6b0",
   "metadata": {
    "tags": []
   },
   "outputs": [
    {
     "name": "stdout",
     "output_type": "stream",
     "text": [
      "\\Moringa_property:\n",
      "     Nyumba Rates  Zones  Zakayos  Overall Price\n",
      "90          15466  Runda  17012.6        17262.6\n",
      "91           7171  Ruaka   7888.1         8138.1\n",
      "92          15834  Runda  17417.4        17667.4\n",
      "93           4983  Ruaka   5481.3         5731.3\n",
      "94           5383  Ruaka   5921.3         6171.3\n",
      "95          17101  Runda  18811.1        19061.1\n",
      "96          12785  Paipu  14063.5        14313.5\n",
      "97          19502  Runda  21452.2        21702.2\n",
      "98          19679  Runda  21646.9        21896.9\n",
      "99           8866  Ruaka   9752.6        10002.6\n",
      "100         19742  Runda  21716.2        21966.2\n",
      "101         12969  Paipu  14265.9        14515.9\n",
      "102         15815  Runda  17396.5        17646.5\n",
      "103         15814  Runda  17395.4        17645.4\n",
      "104          5516  Ruaka   6067.6         6317.6\n",
      "105         14892  Paipu  16381.2        16631.2\n",
      "106         15628  Runda  17190.8        17440.8\n",
      "107         15732  Runda  17305.2        17555.2\n",
      "108         12747  Paipu  14021.7        14271.7\n",
      "109         18320  Runda  20152.0        20402.0\n",
      "110         18819  Runda  20700.9        20950.9\n",
      "111         15229  Runda  16751.9        17001.9\n",
      "112          7186  Ruaka   7904.6         8154.6\n",
      "113          9465  Paipu  10411.5        10661.5\n",
      "114          5526  Ruaka   6078.6         6328.6\n",
      "115          4227  Ruaka   4649.7         4899.7\n",
      "116         19587  Runda  21545.7        21795.7\n",
      "117         13110  Paipu  14421.0        14671.0\n",
      "118         11382  Paipu  12520.2        12770.2\n",
      "119          9316  Paipu  10247.6        10497.6\n"
     ]
    }
   ],
   "source": [
    "#Create a new Series for each step and Finally Combine them all into a DataFrame name 'Moringa_property'.\n",
    "tabulation= {\n",
    "    'Nyumba Rates': random_nyumbas,\n",
    "    'Zones': house_zone,\n",
    "    'Zakayos': price_increase,\n",
    "    'Overall Price': overall_price\n",
    "}\n",
    "\n",
    "\n",
    "Moringa_property = pd.DataFrame(tabulation)\n",
    "\n",
    "print(\"\\Moringa_property:\")\n",
    "print(Moringa_property.tail(30))\n",
    "      "
   ]
  },
  {
   "cell_type": "code",
   "execution_count": null,
   "id": "78b43880-10a3-4379-8c22-1e5ff636bd06",
   "metadata": {},
   "outputs": [],
   "source": []
  },
  {
   "cell_type": "code",
   "execution_count": null,
   "id": "49213904-b1e7-4b08-b0e6-d2f75f93981d",
   "metadata": {},
   "outputs": [],
   "source": []
  }
 ],
 "metadata": {
  "kernelspec": {
   "display_name": "Python 3 (ipykernel)",
   "language": "python",
   "name": "python3"
  },
  "language_info": {
   "codemirror_mode": {
    "name": "ipython",
    "version": 3
   },
   "file_extension": ".py",
   "mimetype": "text/x-python",
   "name": "python",
   "nbconvert_exporter": "python",
   "pygments_lexer": "ipython3",
   "version": "3.11.3"
  }
 },
 "nbformat": 4,
 "nbformat_minor": 5
}
