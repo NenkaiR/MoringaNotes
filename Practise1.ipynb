{
 "cells": [
  {
   "cell_type": "code",
   "execution_count": 1,
   "id": "8f21a534-22e1-4403-9ddc-0f491eb26c44",
   "metadata": {
    "tags": []
   },
   "outputs": [
    {
     "name": "stdout",
     "output_type": "stream",
     "text": [
      "['Croatia', 'USA', 'Argentina', 'Mexico', 'USA', 'Morocco', 'New Mexico', 'Finland', 'Argentina', 'Italy', 'Canada', 'South Korea']\n"
     ]
    }
   ],
   "source": [
    "countries = ['Croatia',\n",
    "\n",
    "'USA',\n",
    "\n",
    "'Argentina',\n",
    "\n",
    "'Mexico',\n",
    "\n",
    "'USA',\n",
    "\n",
    "'Morocco',\n",
    "\n",
    "'New Mexico',\n",
    "\n",
    "'Finland',\n",
    "\n",
    "'Argentina',\n",
    "\n",
    "'Italy',\n",
    "\n",
    "'Canada',\n",
    "\n",
    "'South Korea']\n",
    "\n",
    "print(countries)"
   ]
  },
  {
   "cell_type": "code",
   "execution_count": 2,
   "id": "ab9b778f-1293-4042-9042-e96b1162488c",
   "metadata": {
    "tags": []
   },
   "outputs": [],
   "source": [
    "countries[6]=\"USA\""
   ]
  },
  {
   "cell_type": "code",
   "execution_count": 3,
   "id": "c84dc6e1-c902-4a93-8f5a-cf272e7662e1",
   "metadata": {
    "tags": []
   },
   "outputs": [
    {
     "name": "stdout",
     "output_type": "stream",
     "text": [
      "['Croatia', 'USA', 'Argentina', 'Mexico', 'USA', 'Morocco', 'USA', 'Finland', 'Argentina', 'Italy', 'Canada', 'South Korea']\n"
     ]
    }
   ],
   "source": [
    "print(countries)"
   ]
  },
  {
   "cell_type": "code",
   "execution_count": 4,
   "id": "e28eba9c-af7a-445d-b319-60f8d49a05fa",
   "metadata": {
    "tags": []
   },
   "outputs": [],
   "source": [
    "unique=['Croatia', 'USA', 'Argentina', 'Mexico', 'Morocco', 'Finland', 'Italy', 'Canada', 'South Korea']"
   ]
  },
  {
   "cell_type": "code",
   "execution_count": 5,
   "id": "d2fb5d8c-1083-47c6-aa83-2be5f3d71d73",
   "metadata": {
    "tags": []
   },
   "outputs": [
    {
     "data": {
      "text/plain": [
       "12"
      ]
     },
     "execution_count": 5,
     "metadata": {},
     "output_type": "execute_result"
    }
   ],
   "source": [
    "len(countries)"
   ]
  },
  {
   "cell_type": "code",
   "execution_count": 6,
   "id": "1319452d-2856-47e4-ba3c-357c803048d1",
   "metadata": {
    "tags": []
   },
   "outputs": [
    {
     "data": {
      "text/plain": [
       "9"
      ]
     },
     "execution_count": 6,
     "metadata": {},
     "output_type": "execute_result"
    }
   ],
   "source": [
    "len(unique)"
   ]
  },
  {
   "cell_type": "code",
   "execution_count": 19,
   "id": "a51953e6-4a3d-42c0-82fe-788272c49388",
   "metadata": {
    "tags": []
   },
   "outputs": [
    {
     "name": "stdout",
     "output_type": "stream",
     "text": [
      "{'Mexico', 'Italy', 'Canada', 'South Korea', 'Finland', 'Croatia', 'Argentina', 'USA', 'Morocco'}\n"
     ]
    }
   ],
   "source": [
    "print(set(countries))"
   ]
  },
  {
   "cell_type": "code",
   "execution_count": 21,
   "id": "2e30e917-b3a9-41aa-ba08-76bcafc5a536",
   "metadata": {
    "tags": []
   },
   "outputs": [],
   "source": [
    "unique = set(countries)"
   ]
  },
  {
   "cell_type": "code",
   "execution_count": 13,
   "id": "a19bdd03-1c32-421a-bfc1-c8836bcf56dd",
   "metadata": {
    "tags": []
   },
   "outputs": [
    {
     "data": {
      "text/plain": [
       "['Croatia',\n",
       " 'USA',\n",
       " 'Argentina',\n",
       " 'Mexico',\n",
       " 'USA',\n",
       " 'Morocco',\n",
       " 'USA',\n",
       " 'Finland',\n",
       " 'Argentina',\n",
       " 'Italy',\n",
       " 'Canada',\n",
       " 'South Korea']"
      ]
     },
     "execution_count": 13,
     "metadata": {},
     "output_type": "execute_result"
    }
   ],
   "source": [
    "list(countries)"
   ]
  },
  {
   "cell_type": "code",
   "execution_count": 22,
   "id": "3c123caf-eb11-4df0-96f9-1d8d2545b7b9",
   "metadata": {
    "tags": []
   },
   "outputs": [
    {
     "name": "stdout",
     "output_type": "stream",
     "text": [
      "{'Mexico', 'Italy', 'Canada', 'South Korea', 'Finland', 'Croatia', 'Argentina', 'USA', 'Morocco'}\n"
     ]
    }
   ],
   "source": [
    "print(unique)"
   ]
  },
  {
   "cell_type": "code",
   "execution_count": null,
   "id": "8f65a933-d166-4b7a-a96a-474ec1b38d8c",
   "metadata": {},
   "outputs": [],
   "source": []
  }
 ],
 "metadata": {
  "kernelspec": {
   "display_name": "Python 3 (ipykernel)",
   "language": "python",
   "name": "python3"
  },
  "language_info": {
   "codemirror_mode": {
    "name": "ipython",
    "version": 3
   },
   "file_extension": ".py",
   "mimetype": "text/x-python",
   "name": "python",
   "nbconvert_exporter": "python",
   "pygments_lexer": "ipython3",
   "version": "3.11.3"
  }
 },
 "nbformat": 4,
 "nbformat_minor": 5
}
